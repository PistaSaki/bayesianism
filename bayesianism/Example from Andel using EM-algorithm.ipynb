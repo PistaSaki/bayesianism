{
 "cells": [
  {
   "cell_type": "markdown",
   "metadata": {},
   "source": [
    "## Problem formulation"
   ]
  },
  {
   "cell_type": "markdown",
   "metadata": {},
   "source": [
    "$\\newcommand{\\R}{\\mathbb{R}}$\n",
    "$\\newcommand{\\P}{\\mathbb{P}}$\n",
    "### Problem\n",
    "For $i \\in \\{0, \\ldots N -1\\}$ consider independent \n",
    "$$Y_i \\sim Norm(0,1) \\tag{i}\\label{i}$$\n",
    "$$ Z^{(0)}_i,Z^{(1)}_i \\sim Norm(Y_i, \\sigma^2) \\tag{ii}$$\n",
    "We measure all $Z$, we want to estimate $\\sigma^2$ and we don't care about the values of $Y$.\n",
    "\n",
    "### Frequentist simple maximal likelihood estimator\n",
    "In the simplistic frequentist approach we do not even need ($\\ref{i}$). We consider $M_i, \\sigma^2$ as unknown parameters and look for them by maximalizing the likelihood. We get \n",
    "$$\\hat\\sigma_{mle}^2 = \\frac{1}{4} \\sum_i \\frac{(X_i - Y_i)^2}{N} \\to \\frac 1 2 \\sigma^2.$$\n",
    "so it is not very satisfactory.\n",
    "\n",
    "### Bayesian approach\n",
    "For a Bayesian approach we must furthermore specify a prior on $\\sigma^2$. It is easier for us to work with $\\log(\\sigma^2)\\in \\R$ rather than $\\sigma^2 \\in \\R_{+}$ and we choose inproper\n",
    "$$\\P\\big[\\log(\\sigma^2) \\in dx\\big] \\propto dx \\tag{iii}$$\n",
    "\n",
    "**Remark:** The prior does not save us from the above problem. If we maximize the joint posterior on $\\sigma^2, M$, we get basically the same result. "
   ]
  },
  {
   "cell_type": "markdown",
   "metadata": {},
   "source": [
    "## Imports and setup"
   ]
  },
  {
   "cell_type": "code",
   "execution_count": 1,
   "metadata": {
    "ExecuteTime": {
     "end_time": "2018-01-09T16:15:09.369751Z",
     "start_time": "2018-01-09T16:15:09.057751Z"
    }
   },
   "outputs": [],
   "source": [
    "import numpy as np\n",
    "\n",
    "import matplotlib.pyplot as pl\n",
    "%matplotlib inline"
   ]
  },
  {
   "cell_type": "code",
   "execution_count": 2,
   "metadata": {
    "ExecuteTime": {
     "end_time": "2018-01-09T16:15:13.749751Z",
     "start_time": "2018-01-09T16:15:11.930751Z"
    }
   },
   "outputs": [],
   "source": [
    "import tensorflow as tf\n",
    "import tensorflow.distributions as tfd\n",
    "from tensorflow.distributions import Normal, Bernoulli\n",
    "from tensorflow.nn import softmax\n",
    "from tensorflow import exp, log, ones, zeros\n",
    "\n",
    "tf.enable_eager_execution()"
   ]
  },
  {
   "cell_type": "code",
   "execution_count": 3,
   "metadata": {},
   "outputs": [],
   "source": [
    "from typing import Callable"
   ]
  },
  {
   "cell_type": "code",
   "execution_count": 4,
   "metadata": {
    "ExecuteTime": {
     "end_time": "2018-01-11T13:10:21.902765Z",
     "start_time": "2018-01-11T13:10:21.897764Z"
    }
   },
   "outputs": [
    {
     "data": {
      "text/html": [
       "<style>.container { width:100% !important; }</style>"
      ],
      "text/plain": [
       "<IPython.core.display.HTML object>"
      ]
     },
     "execution_count": 4,
     "metadata": {},
     "output_type": "execute_result"
    }
   ],
   "source": [
    "## changing the width of cells\n",
    "from IPython.core.display import HTML\n",
    "HTML(\"<style>.container { width:100% !important; }</style>\")"
   ]
  },
  {
   "cell_type": "code",
   "execution_count": 5,
   "metadata": {
    "ExecuteTime": {
     "end_time": "2018-01-09T16:15:13.753751Z",
     "start_time": "2018-01-09T16:15:13.750751Z"
    }
   },
   "outputs": [],
   "source": [
    "floatX = np.float32"
   ]
  },
  {
   "cell_type": "markdown",
   "metadata": {},
   "source": [
    "## Bayesian model\n",
    "God generates \"forces\" $Y_i\\sim Norm(\\mu, \\lambda^2)$ for $i\\in\\{0, \\ldots N-1\\}$.\n",
    "Afterwards, Nature generates observations $Z^{(0)}_i,Z^{(1)}_i \\sim Norm(Y_i, \\sigma^2)$. "
   ]
  },
  {
   "cell_type": "markdown",
   "metadata": {},
   "source": [
    "### Generate artificial data"
   ]
  },
  {
   "cell_type": "code",
   "execution_count": 6,
   "metadata": {},
   "outputs": [],
   "source": [
    "μ_true = 0.\n",
    "λ_true = 3.\n",
    "σ_true = 2.\n",
    "N = 100\n",
    "\n",
    "Y_true = Normal(μ_true, λ_true).sample(N)\n",
    "Z_obs = Normal(loc=Y_true, scale=σ_true).sample(2)\n",
    "Z_obs = tf.transpose(Z_obs)"
   ]
  },
  {
   "cell_type": "code",
   "execution_count": 7,
   "metadata": {},
   "outputs": [
    {
     "data": {
      "text/plain": [
       "<matplotlib.collections.PathCollection at 0x1908df5cb38>"
      ]
     },
     "execution_count": 7,
     "metadata": {},
     "output_type": "execute_result"
    },
    {
     "data": {
      "image/png": "[encoded data removed]",
      "text/plain": [
       "<Figure size 432x288 with 1 Axes>"
      ]
     },
     "metadata": {
      "needs_background": "light"
     },
     "output_type": "display_data"
    }
   ],
   "source": [
    "## plot input data\n",
    "fig, ax = pl.subplots()\n",
    "ax.set_aspect(\"equal\")\n",
    "pl.scatter(*Z_obs.numpy().T)\n",
    "pl.scatter(Y_true.numpy(), Y_true.numpy())"
   ]
  },
  {
   "cell_type": "markdown",
   "metadata": {},
   "source": [
    "### Change of variables\n",
    "We have constraints $\\lambda, \\sigma >0$. To get rid of them we introduce\n",
    "$$\\beta = \\log\\lambda^2,\\,\\gamma=\\log\\sigma^2 \\quad\\text{i.e.}\\quad \\lambda = e^{\\beta/2}, \\sigma = e^{\\gamma/2}.$$\n",
    "We take our model paramters to be $\\theta := (\\mu, \\beta, \\gamma)$"
   ]
  },
  {
   "cell_type": "code",
   "execution_count": 8,
   "metadata": {},
   "outputs": [],
   "source": [
    "def get_μλσ(θ):\n",
    "    μ, β, γ = θ\n",
    "    λ = exp(β/2)\n",
    "    σ = exp(γ/2)\n",
    "    return μ, λ, σ"
   ]
  },
  {
   "cell_type": "markdown",
   "metadata": {},
   "source": [
    "### Given distributions\n",
    "$\\newcommand{P}{\\mathbb{P}}$\n",
    "$\\newcommand{R}{\\mathbb{R}}$\n",
    "$\\newcommand{Z}{\\mathbb{Z}}$\n",
    "$\\newcommand{E}{\\mathbb{E}}$\n",
    "#### $\\P(\\theta)$ - prior on model parameters"
   ]
  },
  {
   "cell_type": "code",
   "execution_count": 9,
   "metadata": {},
   "outputs": [],
   "source": [
    "μ_prior = Normal(loc=0., scale=1.)\n",
    "β_prior = Normal(loc=0., scale=1.)\n",
    "γ_prior = Normal(loc=0., scale=1.)\n",
    "\n",
    "def θ_log_prior(θ) -> \"scalar\":\n",
    "    μ, β, γ = θ\n",
    "    return μ_prior.log_prob(μ) + β_prior.log_prob(β) + γ_prior.log_prob(γ)"
   ]
  },
  {
   "cell_type": "code",
   "execution_count": 10,
   "metadata": {},
   "outputs": [
    {
     "data": {
      "text/plain": [
       "<tf.Tensor: id=83, shape=(), dtype=float32, numpy=-2.7568154>"
      ]
     },
     "execution_count": 10,
     "metadata": {},
     "output_type": "execute_result"
    }
   ],
   "source": [
    "## test\n",
    "θ_log_prior((0., 0., 0.))"
   ]
  },
  {
   "cell_type": "markdown",
   "metadata": {},
   "source": [
    "#### $\\P(Y_i\\mid \\theta)$ - \"prior\" on latent variables"
   ]
  },
  {
   "cell_type": "code",
   "execution_count": 11,
   "metadata": {},
   "outputs": [],
   "source": [
    "def Y_log_priors(Y, θ):\n",
    "    μ, λ, σ = get_μλσ(θ)\n",
    "    return Normal(μ, λ).log_prob(Y)"
   ]
  },
  {
   "cell_type": "code",
   "execution_count": 12,
   "metadata": {},
   "outputs": [
    {
     "data": {
      "text/plain": [
       "TensorShape([Dimension(100)])"
      ]
     },
     "execution_count": 12,
     "metadata": {},
     "output_type": "execute_result"
    }
   ],
   "source": [
    "## test\n",
    "Y_log_priors(Y_true, (0.,0.,0.)).shape"
   ]
  },
  {
   "cell_type": "markdown",
   "metadata": {},
   "source": [
    "#### $\\P(Z_i\\mid Y_i,\\ \\theta)$ - \"likelihood\""
   ]
  },
  {
   "cell_type": "code",
   "execution_count": 13,
   "metadata": {},
   "outputs": [],
   "source": [
    "def Z_log_probas(Z, Y, θ):\n",
    "    \"\"\"\n",
    "    Args:\n",
    "        Z: tensor of shape `[N, 2]`\n",
    "        Y: tensor of shape `[N]`\n",
    "        θ: tuple of model parameters\n",
    "    Returns:\n",
    "        tensor of shape `[N]`\n",
    "    \"\"\"\n",
    "    μ, λ, σ = get_μλσ(θ)\n",
    "    return tf.reduce_sum(\n",
    "        Normal(loc=Y[:, None], scale=σ).log_prob(Z),\n",
    "        axis = -1\n",
    "    )"
   ]
  },
  {
   "cell_type": "code",
   "execution_count": 14,
   "metadata": {},
   "outputs": [
    {
     "data": {
      "text/plain": [
       "TensorShape([Dimension(100)])"
      ]
     },
     "execution_count": 14,
     "metadata": {},
     "output_type": "execute_result"
    }
   ],
   "source": [
    "## test\n",
    "Z_log_probas(Z_obs, Y_true, (0.,0.,0.)).shape"
   ]
  },
  {
   "cell_type": "markdown",
   "metadata": {},
   "source": [
    "### EM-algorithm"
   ]
  },
  {
   "cell_type": "markdown",
   "metadata": {},
   "source": [
    "#### Variables"
   ]
  },
  {
   "cell_type": "code",
   "execution_count": 15,
   "metadata": {},
   "outputs": [
    {
     "data": {
      "text/plain": [
       "TensorShape([Dimension(100), Dimension(2)])"
      ]
     },
     "execution_count": 15,
     "metadata": {},
     "output_type": "execute_result"
    }
   ],
   "source": [
    "n_reps = 1\n",
    "Z = tf.tile(Z_obs, [n_reps, 1])\n",
    "Z.shape"
   ]
  },
  {
   "cell_type": "code",
   "execution_count": 16,
   "metadata": {},
   "outputs": [],
   "source": [
    "Y = tf.Variable(zeros(Z.shape[0]))"
   ]
  },
  {
   "cell_type": "code",
   "execution_count": 17,
   "metadata": {},
   "outputs": [],
   "source": [
    "θ = (\n",
    "    tf.Variable(0., name = \"mu\"),\n",
    "    tf.Variable(0., name = \"beta\"),\n",
    "    tf.Variable(0., name = \"gamma\"),\n",
    ")"
   ]
  },
  {
   "cell_type": "code",
   "execution_count": 18,
   "metadata": {},
   "outputs": [],
   "source": [
    "μ, β, γ = θ"
   ]
  },
  {
   "cell_type": "markdown",
   "metadata": {},
   "source": [
    "#### E-step --- MCMC\n",
    "* Do several independent MCMC updates of all $y_i$ with the unnormalized densities $y_i\\mapsto  \\P(y_i\\mid \\theta) \\cdot \\P(z_i\\mid \\theta, y_i)$\n",
    "\n",
    "Denote `losses[i]:=` $-\\log\\P(y_i\\mid \\theta) -\\log \\P(z_i\\mid \\theta, y_i)$"
   ]
  },
  {
   "cell_type": "code",
   "execution_count": 19,
   "metadata": {},
   "outputs": [],
   "source": [
    "def get_losses(Z, Y, θ) -> \"Tensor of shape [N]\":\n",
    "    return - Y_log_priors(Y, θ) - Z_log_probas(Z, Y, θ)"
   ]
  },
  {
   "cell_type": "code",
   "execution_count": 20,
   "metadata": {},
   "outputs": [],
   "source": [
    "def MetropolisHastings_update(\n",
    "    x: tf.Variable, get_losses: Callable, step_size:float, n_steps:int=1\n",
    ") -> None:\n",
    "    \"\"\"Update values in `x` using several steps of Metropolis-Hastings algorithm.\n",
    "    \n",
    "    We want to sample a batch of independent random variables $x_i$ given by batch of \n",
    "    unnormalized densities $f_i(x_i)$. These $f(i)$ are specified by\n",
    "    `get_losses(x)[i]` = $-log(f_i(x_i))$.\n",
    "    \"\"\"\n",
    "\n",
    "    loss_current = get_losses(x)\n",
    "    for i in range(n_steps):\n",
    "        x_suggest = Normal(loc=x, scale=step_size).sample()\n",
    "        loss_suggest = get_losses(x_suggest)\n",
    "\n",
    "        proba_of_step = tf.minimum(exp(loss_current - loss_suggest), 1)\n",
    "        step_or_not = Bernoulli(probs=proba_of_step, dtype = tf.bool).sample()\n",
    "\n",
    "        x.assign(tf.where(step_or_not, x_suggest, x));\n",
    "        loss_current = tf.where(step_or_not, loss_suggest, loss_current)"
   ]
  },
  {
   "cell_type": "code",
   "execution_count": 21,
   "metadata": {},
   "outputs": [],
   "source": [
    "## Test\n",
    "def test_MetropolisHastings_update():\n",
    "    \"\"\"Use Metropolis-Hastings to sample from  Normal(0, 1).\"\"\"\n",
    "    x = tf.Variable(zeros(100))\n",
    "    MetropolisHastings_update(\n",
    "        x, get_losses = lambda x: - Normal(0., 1.).log_prob(x), \n",
    "        step_size=.1, n_steps=1000)\n",
    "    mean, var = tf.nn.moments(x, axes=0)\n",
    "    assert abs(mean) < 0.3 and abs(var - 1) < 0.3\n",
    "\n",
    "test_MetropolisHastings_update()"
   ]
  },
  {
   "cell_type": "code",
   "execution_count": 22,
   "metadata": {},
   "outputs": [],
   "source": [
    "def E_step(step_size=0.1, n_steps=100) -> None: \n",
    "    MetropolisHastings_update(\n",
    "        get_losses = lambda x: get_losses(Z=Z, Y=x, θ=θ),\n",
    "        x = Y,\n",
    "        step_size = step_size,\n",
    "        n_steps = n_steps\n",
    "    )"
   ]
  },
  {
   "cell_type": "markdown",
   "metadata": {},
   "source": [
    "#### M-step --- gradient descent on $\\theta$\n",
    "\n",
    "with fixed $y$ make several gradient-descent steps in $\\theta$ as if trying to maximize the function of $\\theta$\n",
    "$$\\theta \\mapsto \\log\\big(\\P(\\theta) \\cdot\\P(y\\mid \\theta) \\cdot \\P(z\\mid \\theta, y)\\big)$$\n",
    "Denote `loss:=` $-\\log\\P(\\theta) - \\sum_i\\log\\P(y_i\\mid \\theta)  - \\sum_i\\log\\P(z_i\\mid \\theta, y_i)$"
   ]
  },
  {
   "cell_type": "code",
   "execution_count": 23,
   "metadata": {},
   "outputs": [],
   "source": [
    "def get_loss(Z, Y, θ) -> \"scalar\":\n",
    "    return θ_log_prior(θ) - tf.reduce_sum(Y_log_priors(Y, θ)) - tf.reduce_sum(Z_log_probas(Z, Y, θ))"
   ]
  },
  {
   "cell_type": "code",
   "execution_count": 24,
   "metadata": {},
   "outputs": [],
   "source": [
    "optimizer = tf.train.AdamOptimizer()"
   ]
  },
  {
   "cell_type": "code",
   "execution_count": 25,
   "metadata": {},
   "outputs": [],
   "source": [
    "def M_step(n_steps:int = 100) -> None:\n",
    "    for i in range(n_steps):\n",
    "        with tf.GradientTape() as tape:\n",
    "            loss = get_loss(Z, Y, θ)\n",
    "\n",
    "        grad = tape.gradient(loss, θ)\n",
    "        optimizer.apply_gradients(zip(grad, θ))\n",
    "   \n",
    "M_step()"
   ]
  },
  {
   "cell_type": "markdown",
   "metadata": {},
   "source": [
    "#### Run EM-algorithm"
   ]
  },
  {
   "cell_type": "code",
   "execution_count": 31,
   "metadata": {},
   "outputs": [],
   "source": [
    "for i in range(1000):\n",
    "    E_step(step_size=1., n_steps=10)\n",
    "    M_step(n_steps=10)"
   ]
  },
  {
   "cell_type": "code",
   "execution_count": 32,
   "metadata": {},
   "outputs": [
    {
     "data": {
      "text/plain": [
       "(<tf.Variable 'mu:0' shape=() dtype=float32, numpy=0.08547374>,\n",
       " <tf.Tensor: id=11147276, shape=(), dtype=float32, numpy=3.6910186>,\n",
       " <tf.Tensor: id=11147279, shape=(), dtype=float32, numpy=1.928212>)"
      ]
     },
     "execution_count": 32,
     "metadata": {},
     "output_type": "execute_result"
    }
   ],
   "source": [
    "get_μλσ(θ)"
   ]
  },
  {
   "cell_type": "code",
   "execution_count": 28,
   "metadata": {},
   "outputs": [
    {
     "data": {
      "text/plain": [
       "(0.0, 3.0, 2.0)"
      ]
     },
     "execution_count": 28,
     "metadata": {},
     "output_type": "execute_result"
    }
   ],
   "source": [
    "μ_true, λ_true, σ_true"
   ]
  },
  {
   "cell_type": "markdown",
   "metadata": {},
   "source": [
    "# Bordel"
   ]
  },
  {
   "cell_type": "code",
   "execution_count": 25,
   "metadata": {},
   "outputs": [],
   "source": [
    "def M_step_only_gamma(n_steps:int = 100) -> None:\n",
    "    for i in range(n_steps):\n",
    "        with tf.GradientTape() as tape:\n",
    "            loss = get_loss(Z, Y, θ)\n",
    "\n",
    "        grad = tape.gradient(loss, γ)\n",
    "        optimizer.apply_gradients([(grad, γ)])\n",
    "   \n",
    "M_step_only_gamma()"
   ]
  },
  {
   "cell_type": "code",
   "execution_count": 75,
   "metadata": {},
   "outputs": [
    {
     "data": {
      "text/plain": [
       "<tf.Variable 'UnreadVariable' shape=() dtype=float32, numpy=4.6051702>"
      ]
     },
     "execution_count": 75,
     "metadata": {},
     "output_type": "execute_result"
    }
   ],
   "source": [
    "μ.assign(μ_true)\n",
    "β.assign(log(λ_true**2))"
   ]
  },
  {
   "cell_type": "code",
   "execution_count": 84,
   "metadata": {},
   "outputs": [],
   "source": [
    "for i in range(100000):\n",
    "    E_step(step_size=0.01, n_steps=10)\n",
    "    M_step_only_gamma(n_steps=10)"
   ]
  }
 ],
 "metadata": {
  "kernelspec": {
   "display_name": "Python 3",
   "language": "python",
   "name": "python3"
  },
  "language_info": {
   "codemirror_mode": {
    "name": "ipython",
    "version": 3
   },
   "file_extension": ".py",
   "mimetype": "text/x-python",
   "name": "python",
   "nbconvert_exporter": "python",
   "pygments_lexer": "ipython3",
   "version": "3.6.6"
  },
  "toc": {
   "colors": {
    "hover_highlight": "#DAA520",
    "navigate_num": "#000000",
    "navigate_text": "#400040",
    "running_highlight": "#FF0000",
    "selected_highlight": "#FFD700",
    "sidebar_border": "#000000",
    "wrapper_background": "#ffffff"
   },
   "moveMenuLeft": true,
   "nav_menu": {
    "height": "12px",
    "width": "252px"
   },
   "navigate_menu": true,
   "number_sections": true,
   "sideBar": true,
   "threshold": 4,
   "toc_cell": false,
   "toc_position": {
    "height": "1072px",
    "left": "0px",
    "right": "656px",
    "top": "164px",
    "width": "144px"
   },
   "toc_section_display": "block",
   "toc_window_display": false,
   "widenNotebook": false
  }
 },
 "nbformat": 4,
 "nbformat_minor": 2
}
