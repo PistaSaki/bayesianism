{
 "cells": [
  {
   "cell_type": "markdown",
   "metadata": {},
   "source": [
    "## Problem formulation"
   ]
  },
  {
   "cell_type": "markdown",
   "metadata": {},
   "source": [
    "$\\newcommand{\\R}{\\mathbb{R}}$\n",
    "$\\newcommand{\\P}{\\mathbb{P}}$\n",
    "### Problem\n",
    "For $i \\in \\{0, \\ldots N -1\\}$ consider independent \n",
    "$$Y_i \\sim Norm(0,1) \\tag{i}\\label{i}$$\n",
    "$$ Z^{(0)}_i,Z^{(1)}_i \\sim Norm(Y_i, \\sigma^2) \\tag{ii}$$\n",
    "We measure all $Z$, we want to estimate $\\sigma^2$ and we don't care about the values of $Y$.\n",
    "\n",
    "### Frequentist simple maximal likelihood estimator\n",
    "In the simplistic frequentist approach we do not even need ($\\ref{i}$). We consider $M_i, \\sigma^2$ as unknown parameters and look for them by maximalizing the likelihood. We get \n",
    "$$\\hat\\sigma_{mle}^2 = \\frac{1}{4} \\sum_i \\frac{(X_i - Y_i)^2}{N} \\to \\frac 1 2 \\sigma^2.$$\n",
    "so it is not very satisfactory.\n",
    "\n",
    "### Bayesian approach\n",
    "For a Bayesian approach we must furthermore specify a prior on $\\sigma^2$. It is easier for us to work with $\\log(\\sigma^2)\\in \\R$ rather than $\\sigma^2 \\in \\R_{+}$ and we choose inproper\n",
    "$$\\P\\big[\\log(\\sigma^2) \\in dx\\big] \\propto dx \\tag{iii}$$\n",
    "\n",
    "**Remark:** The prior does not save us from the above problem. If we maximize the joint posterior on $\\sigma^2, M$, we get basically the same result. "
   ]
  },
  {
   "cell_type": "markdown",
   "metadata": {},
   "source": [
    "## Imports and setup"
   ]
  },
  {
   "cell_type": "code",
   "execution_count": 1,
   "metadata": {
    "ExecuteTime": {
     "end_time": "2018-01-09T16:15:09.369751Z",
     "start_time": "2018-01-09T16:15:09.057751Z"
    }
   },
   "outputs": [],
   "source": [
    "import numpy as np\n",
    "\n",
    "import matplotlib.pyplot as pl\n",
    "%matplotlib inline"
   ]
  },
  {
   "cell_type": "code",
   "execution_count": 2,
   "metadata": {
    "ExecuteTime": {
     "end_time": "2018-01-09T16:15:13.749751Z",
     "start_time": "2018-01-09T16:15:11.930751Z"
    }
   },
   "outputs": [],
   "source": [
    "import tensorflow as tf\n",
    "import tensorflow.distributions as tfd\n",
    "from tensorflow.distributions import Normal\n",
    "from tensorflow.nn import softmax\n",
    "from tensorflow import exp, log, ones, zeros\n",
    "\n",
    "tf.enable_eager_execution()"
   ]
  },
  {
   "cell_type": "code",
   "execution_count": 3,
   "metadata": {
    "ExecuteTime": {
     "end_time": "2018-01-11T13:10:21.902765Z",
     "start_time": "2018-01-11T13:10:21.897764Z"
    }
   },
   "outputs": [
    {
     "data": {
      "text/html": [
       "<style>.container { width:100% !important; }</style>"
      ],
      "text/plain": [
       "<IPython.core.display.HTML object>"
      ]
     },
     "execution_count": 3,
     "metadata": {},
     "output_type": "execute_result"
    }
   ],
   "source": [
    "## changing the width of cells\n",
    "from IPython.core.display import HTML\n",
    "HTML(\"<style>.container { width:100% !important; }</style>\")"
   ]
  },
  {
   "cell_type": "code",
   "execution_count": 4,
   "metadata": {
    "ExecuteTime": {
     "end_time": "2018-01-09T16:15:13.753751Z",
     "start_time": "2018-01-09T16:15:13.750751Z"
    }
   },
   "outputs": [],
   "source": [
    "floatX = np.float32"
   ]
  },
  {
   "cell_type": "markdown",
   "metadata": {},
   "source": [
    "## Bayesian model\n",
    "God generates \"forces\" $Y_i\\sim Norm(\\mu, \\lambda^2)$ for $i\\in\\{0, \\ldots N-1\\}$.\n",
    "Afterwards, Nature generates observations $Z^{(0)}_i,Z^{(1)}_i \\sim Norm(Y_i, \\sigma^2)$. "
   ]
  },
  {
   "cell_type": "markdown",
   "metadata": {},
   "source": [
    "### Generate artificial data"
   ]
  },
  {
   "cell_type": "code",
   "execution_count": 19,
   "metadata": {},
   "outputs": [],
   "source": [
    "μ_true = 1/2\n",
    "λ_true = 1.\n",
    "σ_true = 0.2\n",
    "N = 100\n",
    "\n",
    "Y_true = Normal(μ_true, λ_true).sample(N)\n",
    "Z = Normal(loc=Y_true, scale=σ_true).sample(2)\n",
    "Z = tf.transpose(Z)"
   ]
  },
  {
   "cell_type": "markdown",
   "metadata": {},
   "source": [
    "### Change of variables\n",
    "We have constraints $\\lambda, \\sigma >0$. To get rid of them we introduce\n",
    "$$\\beta = \\log\\lambda^2,\\,\\gamma=\\log\\sigma^2 \\quad\\text{i.e.}\\quad \\lambda = e^{\\beta/2}, \\sigma = e^{\\gamma/2}.$$\n",
    "We take our model paramters to be $\\theta := (\\mu, \\beta, \\gamma)$"
   ]
  },
  {
   "cell_type": "code",
   "execution_count": 5,
   "metadata": {},
   "outputs": [],
   "source": [
    "def get_μλσ(θ):\n",
    "    μ, β, γ = θ\n",
    "    λ = exp(β/2)\n",
    "    σ = exp(γ/2)\n",
    "    return μ, λ, σ"
   ]
  },
  {
   "cell_type": "markdown",
   "metadata": {},
   "source": [
    "### Given distributions\n",
    "$\\newcommand{P}{\\mathbb{P}}$\n",
    "$\\newcommand{R}{\\mathbb{R}}$\n",
    "$\\newcommand{Z}{\\mathbb{Z}}$\n",
    "$\\newcommand{E}{\\mathbb{E}}$\n",
    "#### $\\P(\\theta)$ - prior on model parameters"
   ]
  },
  {
   "cell_type": "code",
   "execution_count": 22,
   "metadata": {},
   "outputs": [],
   "source": [
    "μ_prior = Normal(loc=0., scale=1.)\n",
    "β_prior = Normal(loc=0., scale=1.)\n",
    "γ_prior = Normal(loc=0., scale=1.)\n",
    "\n",
    "def θ_log_prior(θ) -> \"scalar\":\n",
    "    μ, β, γ = θ\n",
    "    return μ_prior.log_prob(μ) + β_prior.log_prob(β) + γ_prior.log_prob(γ)"
   ]
  },
  {
   "cell_type": "code",
   "execution_count": 24,
   "metadata": {},
   "outputs": [
    {
     "data": {
      "text/plain": [
       "<tf.Tensor: id=255, shape=(), dtype=float32, numpy=-2.7568154>"
      ]
     },
     "execution_count": 24,
     "metadata": {},
     "output_type": "execute_result"
    }
   ],
   "source": [
    "## test\n",
    "θ_log_prior((0., 0., 0.))"
   ]
  },
  {
   "cell_type": "markdown",
   "metadata": {},
   "source": [
    "#### $\\P(Y_i\\mid \\theta)$ - \"prior\" on latent variables"
   ]
  },
  {
   "cell_type": "code",
   "execution_count": 30,
   "metadata": {},
   "outputs": [],
   "source": [
    "def Y_log_priors(Y, θ):\n",
    "    μ, λ, σ = get_μλσ(θ)\n",
    "    return Normal(μ, λ).log_prob(Y)"
   ]
  },
  {
   "cell_type": "code",
   "execution_count": 32,
   "metadata": {},
   "outputs": [
    {
     "data": {
      "text/plain": [
       "TensorShape([Dimension(100)])"
      ]
     },
     "execution_count": 32,
     "metadata": {},
     "output_type": "execute_result"
    }
   ],
   "source": [
    "## test\n",
    "Y_log_priors(Y_true, (0.,0.,0.)).shape"
   ]
  },
  {
   "cell_type": "markdown",
   "metadata": {},
   "source": [
    "#### $\\P(Z_i\\mid Y_i,\\ \\theta)$ - \"likelihood\""
   ]
  },
  {
   "cell_type": "code",
   "execution_count": 35,
   "metadata": {},
   "outputs": [],
   "source": [
    "def Z_log_probas(Z, Y, θ):\n",
    "    \"\"\"\n",
    "    Args:\n",
    "        Z: tensor of shape `[N, 2]`\n",
    "        Y: tensor of shape `[N]`\n",
    "        θ: tuple of model parameters\n",
    "    Returns:\n",
    "        tensor of shape `[N]`\n",
    "    \"\"\"\n",
    "    μ, λ, σ = get_μλσ(θ)\n",
    "    return tf.reduce_sum(\n",
    "        Normal(loc=Y[:, None], scale=σ).log_prob(Z),\n",
    "        axis = -1\n",
    "    )"
   ]
  },
  {
   "cell_type": "code",
   "execution_count": 37,
   "metadata": {},
   "outputs": [
    {
     "data": {
      "text/plain": [
       "TensorShape([Dimension(100)])"
      ]
     },
     "execution_count": 37,
     "metadata": {},
     "output_type": "execute_result"
    }
   ],
   "source": [
    "## test\n",
    "Z_log_probas(Z, Y_true, (0.,0.,0.)).shape"
   ]
  },
  {
   "cell_type": "markdown",
   "metadata": {},
   "source": [
    "### EM-algorithm"
   ]
  },
  {
   "cell_type": "markdown",
   "metadata": {},
   "source": [
    "#### Variables"
   ]
  },
  {
   "cell_type": "code",
   "execution_count": 39,
   "metadata": {},
   "outputs": [],
   "source": [
    "Y = tf.Variable(zeros(Z.shape[0]))"
   ]
  },
  {
   "cell_type": "code",
   "execution_count": 40,
   "metadata": {},
   "outputs": [],
   "source": [
    "θ = (\n",
    "    tf.Variable(0., name = \"mu\"),\n",
    "    tf.Variable(0., name = \"beta\"),\n",
    "    tf.Variable(0., name = \"gamma\"),\n",
    ")"
   ]
  },
  {
   "cell_type": "markdown",
   "metadata": {},
   "source": [
    "#### E-step --- MCMC"
   ]
  },
  {
   "cell_type": "code",
   "execution_count": null,
   "metadata": {},
   "outputs": [],
   "source": []
  },
  {
   "cell_type": "markdown",
   "metadata": {},
   "source": [
    "## Tensorflow Variables for Model and Data"
   ]
  },
  {
   "cell_type": "code",
   "execution_count": 9,
   "metadata": {
    "ExecuteTime": {
     "end_time": "2018-01-09T17:34:41.251751Z",
     "start_time": "2018-01-09T17:34:41.235751Z"
    }
   },
   "outputs": [],
   "source": [
    "def get_vector_variable(name, N_init = 10):\n",
    "    X = tf.Variable(\n",
    "        name = name, \n",
    "        initial_value= rnd.normal(size = N_init),\n",
    "        dtype = floatX,\n",
    "        validate_shape = False,       \n",
    "    )\n",
    "    X.set_shape([None])\n",
    "    sess.run(X.initializer)\n",
    "    return X"
   ]
  },
  {
   "cell_type": "code",
   "execution_count": 10,
   "metadata": {
    "ExecuteTime": {
     "end_time": "2018-01-09T17:34:42.092751Z",
     "start_time": "2018-01-09T17:34:42.058751Z"
    }
   },
   "outputs": [],
   "source": [
    "M = get_vector_variable(\"M\")\n",
    "X = get_vector_variable(\"X\")\n",
    "Y = get_vector_variable(\"Y\")"
   ]
  },
  {
   "cell_type": "code",
   "execution_count": 11,
   "metadata": {
    "ExecuteTime": {
     "end_time": "2018-01-09T17:57:17.340751Z",
     "start_time": "2018-01-09T17:57:17.311751Z"
    }
   },
   "outputs": [],
   "source": [
    "log_sigma_2 = tf.Variable(\n",
    "    np.log(0.1), name = \"log_sigma_2\", dtype = floatX\n",
    ")\n",
    "sess.run(log_sigma_2.initializer)"
   ]
  },
  {
   "cell_type": "code",
   "execution_count": 12,
   "metadata": {
    "ExecuteTime": {
     "end_time": "2018-01-09T17:57:18.248751Z",
     "start_time": "2018-01-09T17:57:18.238751Z"
    }
   },
   "outputs": [],
   "source": [
    "sigma_2 = tf.exp(log_sigma_2)"
   ]
  },
  {
   "cell_type": "markdown",
   "metadata": {},
   "source": [
    "## Priors"
   ]
  },
  {
   "cell_type": "markdown",
   "metadata": {},
   "source": [
    "### Prior on $M$"
   ]
  },
  {
   "cell_type": "code",
   "execution_count": 13,
   "metadata": {
    "ExecuteTime": {
     "end_time": "2018-01-09T17:41:26.572751Z",
     "start_time": "2018-01-09T17:41:26.566751Z"
    }
   },
   "outputs": [],
   "source": [
    "M_prior = SimpleNamespace()"
   ]
  },
  {
   "cell_type": "code",
   "execution_count": 14,
   "metadata": {
    "ExecuteTime": {
     "end_time": "2018-01-09T17:43:05.290751Z",
     "start_time": "2018-01-09T17:43:05.269751Z"
    }
   },
   "outputs": [],
   "source": [
    "M_prior.log_lhds = tf.distributions.Normal(\n",
    "    loc = 0.0, scale = 1.0,\n",
    ").log_prob(M)"
   ]
  },
  {
   "cell_type": "code",
   "execution_count": 15,
   "metadata": {
    "ExecuteTime": {
     "end_time": "2018-01-09T18:00:26.470751Z",
     "start_time": "2018-01-09T18:00:26.465751Z"
    }
   },
   "outputs": [],
   "source": [
    "M_prior.log_lhd = tf.reduce_sum(M_prior.log_lhds)"
   ]
  },
  {
   "cell_type": "markdown",
   "metadata": {},
   "source": [
    "### Prior on $\\sigma^2$\n",
    "We have chosen the \"probability density\" of $\\log(\\sigma^2)$ to be constant, so we can ignore this."
   ]
  },
  {
   "cell_type": "markdown",
   "metadata": {},
   "source": [
    "## Likelihoods"
   ]
  },
  {
   "cell_type": "markdown",
   "metadata": {},
   "source": [
    "### Observations of $X$"
   ]
  },
  {
   "cell_type": "code",
   "execution_count": 16,
   "metadata": {
    "ExecuteTime": {
     "end_time": "2018-01-09T17:56:46.982751Z",
     "start_time": "2018-01-09T17:56:46.976751Z"
    }
   },
   "outputs": [],
   "source": [
    "X_obs = SimpleNamespace()"
   ]
  },
  {
   "cell_type": "code",
   "execution_count": 17,
   "metadata": {
    "ExecuteTime": {
     "end_time": "2018-01-09T17:57:22.088751Z",
     "start_time": "2018-01-09T17:57:22.077751Z"
    }
   },
   "outputs": [],
   "source": [
    "X_obs.log_lhds = tf.distributions.Normal(\n",
    "    loc = M, scale = sigma_2**(1/2),\n",
    ").log_prob(X)"
   ]
  },
  {
   "cell_type": "code",
   "execution_count": 18,
   "metadata": {
    "ExecuteTime": {
     "end_time": "2018-01-09T18:00:51.547751Z",
     "start_time": "2018-01-09T18:00:51.531751Z"
    }
   },
   "outputs": [],
   "source": [
    "X_obs.log_lhd = tf.reduce_sum(X_obs.log_lhds)"
   ]
  },
  {
   "cell_type": "code",
   "execution_count": 20,
   "metadata": {
    "ExecuteTime": {
     "end_time": "2018-01-09T18:00:55.765751Z",
     "start_time": "2018-01-09T18:00:55.745751Z"
    }
   },
   "outputs": [
    {
     "data": {
      "text/plain": [
       "-66.665054"
      ]
     },
     "execution_count": 20,
     "metadata": {},
     "output_type": "execute_result"
    }
   ],
   "source": [
    "sess.run(X_obs.log_lhd)"
   ]
  },
  {
   "cell_type": "markdown",
   "metadata": {},
   "source": [
    "### Observations of $Y$"
   ]
  },
  {
   "cell_type": "code",
   "execution_count": 21,
   "metadata": {
    "ExecuteTime": {
     "end_time": "2018-01-09T17:58:50.862751Z",
     "start_time": "2018-01-09T17:58:50.857751Z"
    }
   },
   "outputs": [],
   "source": [
    "Y_obs = SimpleNamespace()"
   ]
  },
  {
   "cell_type": "code",
   "execution_count": 22,
   "metadata": {
    "ExecuteTime": {
     "end_time": "2018-01-09T17:59:02.349751Z",
     "start_time": "2018-01-09T17:59:02.319751Z"
    }
   },
   "outputs": [],
   "source": [
    "Y_obs.log_lhds = tf.distributions.Normal(\n",
    "    loc = M, scale = sigma_2**(1/2),\n",
    ").log_prob(Y)"
   ]
  },
  {
   "cell_type": "code",
   "execution_count": 23,
   "metadata": {
    "ExecuteTime": {
     "end_time": "2018-01-09T18:01:16.091751Z",
     "start_time": "2018-01-09T18:01:16.081751Z"
    }
   },
   "outputs": [],
   "source": [
    "Y_obs.log_lhd = tf.reduce_sum(Y_obs.log_lhds)"
   ]
  },
  {
   "cell_type": "code",
   "execution_count": 24,
   "metadata": {
    "ExecuteTime": {
     "end_time": "2018-01-09T18:01:20.027751Z",
     "start_time": "2018-01-09T18:01:20.009751Z"
    }
   },
   "outputs": [
    {
     "data": {
      "text/plain": [
       "-70.45"
      ]
     },
     "execution_count": 24,
     "metadata": {},
     "output_type": "execute_result"
    }
   ],
   "source": [
    "sess.run(Y_obs.log_lhd)"
   ]
  },
  {
   "cell_type": "markdown",
   "metadata": {},
   "source": [
    "## Posterior"
   ]
  },
  {
   "cell_type": "code",
   "execution_count": 25,
   "metadata": {
    "ExecuteTime": {
     "end_time": "2018-01-10T08:39:13.532063Z",
     "start_time": "2018-01-10T08:39:13.524062Z"
    }
   },
   "outputs": [],
   "source": [
    "post = SimpleNamespace()"
   ]
  },
  {
   "cell_type": "code",
   "execution_count": 26,
   "metadata": {
    "ExecuteTime": {
     "end_time": "2018-01-10T08:39:18.728583Z",
     "start_time": "2018-01-10T08:39:18.719582Z"
    }
   },
   "outputs": [],
   "source": [
    "post.log_lhd = sum(\n",
    "    x.log_lhd for x in [M_prior, X_obs, Y_obs]\n",
    ")"
   ]
  },
  {
   "cell_type": "code",
   "execution_count": 35,
   "metadata": {
    "ExecuteTime": {
     "end_time": "2018-01-10T14:22:57.769247Z",
     "start_time": "2018-01-10T14:22:57.758247Z"
    }
   },
   "outputs": [],
   "source": [
    "## We will need later the following\n",
    "post.M_losses =  - sum(\n",
    "    x.log_lhds for x in [M_prior, X_obs, Y_obs]\n",
    ")"
   ]
  },
  {
   "cell_type": "code",
   "execution_count": 28,
   "metadata": {
    "ExecuteTime": {
     "end_time": "2018-01-10T08:39:45.461256Z",
     "start_time": "2018-01-10T08:39:45.440253Z"
    }
   },
   "outputs": [
    {
     "data": {
      "text/plain": [
       "-148.53954"
      ]
     },
     "execution_count": 28,
     "metadata": {},
     "output_type": "execute_result"
    }
   ],
   "source": [
    "sess.run(post.log_lhd)"
   ]
  },
  {
   "cell_type": "code",
   "execution_count": 29,
   "metadata": {
    "ExecuteTime": {
     "end_time": "2018-01-10T08:43:17.616469Z",
     "start_time": "2018-01-10T08:43:17.383446Z"
    }
   },
   "outputs": [],
   "source": [
    "post.grad_M, post.grad_log_sigma_2 = tf.gradients(\n",
    "    post.log_lhd, [M, log_sigma_2]\n",
    ")"
   ]
  },
  {
   "cell_type": "code",
   "execution_count": 30,
   "metadata": {
    "ExecuteTime": {
     "end_time": "2018-01-10T08:44:46.498356Z",
     "start_time": "2018-01-10T08:44:46.425349Z"
    }
   },
   "outputs": [
    {
     "data": {
      "text/plain": [
       "[array([-38.458435 ,  -1.6533003,  -4.608013 , -25.780334 ,  17.529793 ,\n",
       "        -11.299027 ,  -1.7531624, -25.602997 , -15.927553 ,   4.90258  ],\n",
       "       dtype=float32), 131.76213]"
      ]
     },
     "execution_count": 30,
     "metadata": {},
     "output_type": "execute_result"
    }
   ],
   "source": [
    "sess.run([post.grad_M, post.grad_log_sigma_2])"
   ]
  },
  {
   "cell_type": "code",
   "execution_count": 31,
   "metadata": {},
   "outputs": [
    {
     "data": {
      "text/plain": [
       "namespace(M_losses=<tf.Tensor 'Neg:0' shape=(?,) dtype=float32>, grad_M=<tf.Tensor 'gradients/AddN_2:0' shape=(?,) dtype=float32>, grad_log_sigma_2=<tf.Tensor 'gradients/Exp_grad/mul:0' shape=() dtype=float32>, log_lhd=<tf.Tensor 'add_2:0' shape=() dtype=float32>)"
      ]
     },
     "execution_count": 31,
     "metadata": {},
     "output_type": "execute_result"
    }
   ],
   "source": [
    "post"
   ]
  },
  {
   "cell_type": "markdown",
   "metadata": {},
   "source": [
    "## Generate Data"
   ]
  },
  {
   "cell_type": "code",
   "execution_count": 32,
   "metadata": {
    "ExecuteTime": {
     "end_time": "2018-01-10T10:01:52.003110Z",
     "start_time": "2018-01-10T10:01:52.000110Z"
    }
   },
   "outputs": [],
   "source": [
    "N = 1000\n",
    "\n",
    "sigma_val = 0.1\n",
    "M_val = rnd.normal(size = N)"
   ]
  },
  {
   "cell_type": "code",
   "execution_count": 33,
   "metadata": {
    "ExecuteTime": {
     "end_time": "2018-01-10T10:01:52.576167Z",
     "start_time": "2018-01-10T10:01:52.573167Z"
    }
   },
   "outputs": [],
   "source": [
    "X_val = rnd.normal(loc = M_val, scale = sigma_val)"
   ]
  },
  {
   "cell_type": "code",
   "execution_count": 34,
   "metadata": {
    "ExecuteTime": {
     "end_time": "2018-01-10T10:01:53.104220Z",
     "start_time": "2018-01-10T10:01:53.101220Z"
    }
   },
   "outputs": [],
   "source": [
    "Y_val = rnd.normal(loc = M_val, scale = sigma_val)"
   ]
  },
  {
   "cell_type": "markdown",
   "metadata": {},
   "source": [
    "#### Initialize variables"
   ]
  },
  {
   "cell_type": "code",
   "execution_count": 38,
   "metadata": {
    "ExecuteTime": {
     "end_time": "2018-01-10T14:58:01.974247Z",
     "start_time": "2018-01-10T14:58:01.953247Z"
    }
   },
   "outputs": [],
   "source": [
    "def initialize_model_variables(repetitions = 1):\n",
    "    ptf.assign_to(X, list(X_val) * repetitions )\n",
    "    ptf.assign_to(Y, list(Y_val) * repetitions )\n",
    "\n",
    "    ptf.assign_to(M, np.zeros(N * repetitions))\n",
    "    ptf.assign_to(log_sigma_2, 0.0)\n",
    "\n",
    "initialize_model_variables()"
   ]
  },
  {
   "cell_type": "markdown",
   "metadata": {},
   "source": [
    "## Minimize posterior"
   ]
  },
  {
   "cell_type": "code",
   "execution_count": 42,
   "metadata": {
    "ExecuteTime": {
     "end_time": "2018-01-10T10:15:38.930471Z",
     "start_time": "2018-01-10T10:15:38.924471Z"
    }
   },
   "outputs": [],
   "source": [
    "learning_rate = tf.placeholder(dtype = floatX, name = \"learning_rate\")"
   ]
  },
  {
   "cell_type": "code",
   "execution_count": 43,
   "metadata": {
    "ExecuteTime": {
     "end_time": "2018-01-10T10:34:34.109471Z",
     "start_time": "2018-01-10T10:34:34.104471Z"
    }
   },
   "outputs": [],
   "source": [
    "optimizer = tf.train.AdamOptimizer(learning_rate = learning_rate)"
   ]
  },
  {
   "cell_type": "code",
   "execution_count": 44,
   "metadata": {
    "ExecuteTime": {
     "end_time": "2018-01-10T10:34:34.764471Z",
     "start_time": "2018-01-10T10:34:34.759471Z"
    }
   },
   "outputs": [],
   "source": [
    "loss = - post.log_lhd"
   ]
  },
  {
   "cell_type": "code",
   "execution_count": 45,
   "metadata": {
    "ExecuteTime": {
     "end_time": "2018-01-10T10:34:35.773471Z",
     "start_time": "2018-01-10T10:34:35.473471Z"
    }
   },
   "outputs": [],
   "source": [
    "train_step = optimizer.minimize(\n",
    "    loss = loss,\n",
    "    var_list = [M, log_sigma_2]\n",
    ")"
   ]
  },
  {
   "cell_type": "code",
   "execution_count": 46,
   "metadata": {
    "ExecuteTime": {
     "end_time": "2018-01-10T10:34:45.930471Z",
     "start_time": "2018-01-10T10:34:45.920471Z"
    }
   },
   "outputs": [],
   "source": [
    "global_variables_initializer = tf.global_variables_initializer()"
   ]
  },
  {
   "cell_type": "code",
   "execution_count": 47,
   "metadata": {
    "ExecuteTime": {
     "end_time": "2018-01-10T10:36:39.564471Z",
     "start_time": "2018-01-10T10:36:39.534471Z"
    }
   },
   "outputs": [],
   "source": [
    "sess.run(global_variables_initializer)\n",
    "initialize_model_variables()"
   ]
  },
  {
   "cell_type": "code",
   "execution_count": 48,
   "metadata": {
    "ExecuteTime": {
     "end_time": "2018-01-10T10:36:48.796471Z",
     "start_time": "2018-01-10T10:36:48.762471Z"
    }
   },
   "outputs": [
    {
     "data": {
      "text/plain": [
       "3812.8481"
      ]
     },
     "execution_count": 48,
     "metadata": {},
     "output_type": "execute_result"
    }
   ],
   "source": [
    "sess.run(loss)"
   ]
  },
  {
   "cell_type": "code",
   "execution_count": 49,
   "metadata": {
    "ExecuteTime": {
     "end_time": "2018-01-10T10:38:28.815471Z",
     "start_time": "2018-01-10T10:38:25.810471Z"
    }
   },
   "outputs": [
    {
     "name": "stdout",
     "output_type": "stream",
     "text": [
      "0 3811.1738\n",
      "1000 2215.087\n",
      "2000 452.67233\n",
      "3000 -544.1853\n",
      "4000 -945.8364\n",
      "5000 -1007.42737\n",
      "6000 -1008.5939\n",
      "7000 -1008.59485\n",
      "8000 -1008.595\n",
      "9000 -1008.595\n"
     ]
    }
   ],
   "source": [
    "for i in range(10000):\n",
    "    sess.run(train_step, {learning_rate: 0.001})\n",
    "    if i % 1000 == 0:\n",
    "        print(i, sess.run(loss))"
   ]
  },
  {
   "cell_type": "markdown",
   "metadata": {},
   "source": [
    "Here is the value of $\\hat\\sigma_{mle}$ we get by minimizing the posterior"
   ]
  },
  {
   "cell_type": "code",
   "execution_count": 50,
   "metadata": {
    "ExecuteTime": {
     "end_time": "2018-01-10T10:38:56.545471Z",
     "start_time": "2018-01-10T10:38:56.508471Z"
    }
   },
   "outputs": [
    {
     "data": {
      "text/plain": [
       "0.07106736081155918"
      ]
     },
     "execution_count": 50,
     "metadata": {},
     "output_type": "execute_result"
    }
   ],
   "source": [
    "sess.run(sigma_2)**(1/2)"
   ]
  },
  {
   "cell_type": "markdown",
   "metadata": {},
   "source": [
    "As expected, it is approximately equal to $\\frac{\\sigma}{\\sqrt 2}$"
   ]
  },
  {
   "cell_type": "code",
   "execution_count": 51,
   "metadata": {
    "ExecuteTime": {
     "end_time": "2018-01-10T10:39:44.581471Z",
     "start_time": "2018-01-10T10:39:44.572471Z"
    }
   },
   "outputs": [
    {
     "data": {
      "text/plain": [
       "0.07071067811865475"
      ]
     },
     "execution_count": 51,
     "metadata": {},
     "output_type": "execute_result"
    }
   ],
   "source": [
    "sigma_val / (2 ** (1/2))"
   ]
  },
  {
   "cell_type": "markdown",
   "metadata": {},
   "source": [
    "## MCMC integration in $M$ and maximization in $\\sigma$"
   ]
  },
  {
   "cell_type": "code",
   "execution_count": 52,
   "metadata": {
    "ExecuteTime": {
     "end_time": "2018-01-10T13:20:40.021247Z",
     "start_time": "2018-01-10T13:20:40.016247Z"
    }
   },
   "outputs": [],
   "source": [
    "mh = SimpleNamespace()"
   ]
  },
  {
   "cell_type": "code",
   "execution_count": 53,
   "metadata": {
    "ExecuteTime": {
     "end_time": "2018-01-10T13:47:46.433247Z",
     "start_time": "2018-01-10T13:47:46.417247Z"
    }
   },
   "outputs": [],
   "source": [
    "## size of the Metropolis-Hastings update step\n",
    "mh.step_size = tf.placeholder_with_default(\n",
    "    input = np.array(0.01, dtype = floatX),\n",
    "    shape = [],\n",
    "    name = \"Metropolis_Hastings_step_size\"\n",
    ")"
   ]
  },
  {
   "cell_type": "code",
   "execution_count": 54,
   "metadata": {
    "ExecuteTime": {
     "end_time": "2018-01-10T13:53:41.800247Z",
     "start_time": "2018-01-10T13:53:41.755247Z"
    }
   },
   "outputs": [],
   "source": [
    "mh.M_suggest = tf.distributions.Normal(\n",
    "    loc = M, scale = mh.step_size,\n",
    ").sample()"
   ]
  },
  {
   "cell_type": "code",
   "execution_count": 56,
   "metadata": {
    "ExecuteTime": {
     "end_time": "2018-01-10T14:59:51.869247Z",
     "start_time": "2018-01-10T14:59:51.861247Z"
    }
   },
   "outputs": [],
   "source": [
    "def mh_update_M( step_size):\n",
    "    \"\"\"Update `M` using Metropolis-Hastings algorithm.\n",
    "    \"\"\"\n",
    "    M_current = sess.run(M)\n",
    "    loss_current = sess.run(post.M_losses)\n",
    "    \n",
    "    M_suggest = rnd.normal(M_current, scale = step_size)\n",
    "    loss_suggest = sess.run(post.M_losses, {M: M_suggest})\n",
    "    \n",
    "    ## following Metropolis-Hastings, we decide whether we make the step or not\n",
    "    step_or_not = rnd.binomial(\n",
    "        n = 1,\n",
    "        p = np.minimum(np.exp(loss_current - loss_suggest), 1)\n",
    "    )\n",
    "    \n",
    "    #print(step_or_not)\n",
    "\n",
    "    M_new = np.where(step_or_not, M_suggest, M_current)\n",
    "    \n",
    "    ptf.assign_to(M, M_new)\n",
    "    "
   ]
  },
  {
   "cell_type": "code",
   "execution_count": 57,
   "metadata": {
    "ExecuteTime": {
     "end_time": "2018-01-10T14:59:54.162247Z",
     "start_time": "2018-01-10T14:59:54.148247Z"
    }
   },
   "outputs": [],
   "source": [
    "mh_update_M(0.1)"
   ]
  },
  {
   "cell_type": "code",
   "execution_count": null,
   "metadata": {},
   "outputs": [],
   "source": []
  },
  {
   "cell_type": "code",
   "execution_count": 58,
   "metadata": {
    "ExecuteTime": {
     "end_time": "2018-01-10T14:29:05.952247Z",
     "start_time": "2018-01-10T14:29:05.768247Z"
    }
   },
   "outputs": [],
   "source": [
    "sigma_train_step = optimizer.minimize(\n",
    "    loss = loss,\n",
    "    var_list = [log_sigma_2]\n",
    ")"
   ]
  },
  {
   "cell_type": "code",
   "execution_count": 59,
   "metadata": {
    "ExecuteTime": {
     "end_time": "2018-01-10T14:30:23.391247Z",
     "start_time": "2018-01-10T14:30:23.381247Z"
    }
   },
   "outputs": [],
   "source": [
    "global_variables_initializer = tf.global_variables_initializer()"
   ]
  },
  {
   "cell_type": "code",
   "execution_count": 63,
   "metadata": {
    "ExecuteTime": {
     "end_time": "2018-01-10T15:08:59.282247Z",
     "start_time": "2018-01-10T15:08:59.272247Z"
    }
   },
   "outputs": [],
   "source": [
    "sess.run(global_variables_initializer)\n",
    "initialize_model_variables(repetitions = 10)"
   ]
  },
  {
   "cell_type": "code",
   "execution_count": 61,
   "metadata": {
    "ExecuteTime": {
     "end_time": "2018-01-10T15:09:02.146247Z",
     "start_time": "2018-01-10T15:09:00.023247Z"
    }
   },
   "outputs": [],
   "source": [
    "for i in range(1000):\n",
    "    mh_update_M(0.1)"
   ]
  },
  {
   "cell_type": "code",
   "execution_count": 64,
   "metadata": {
    "ExecuteTime": {
     "end_time": "2018-01-10T15:12:28.246247Z",
     "start_time": "2018-01-10T15:09:02.147247Z"
    }
   },
   "outputs": [
    {
     "name": "stdout",
     "output_type": "stream",
     "text": [
      "0 37575.65 0.9950579175434462\n",
      "100 26016.477 0.564632083810382\n",
      "200 16670.752 0.34437706496697895\n",
      "300 8215.945 0.2155450472282406\n",
      "400 1399.815 0.14395926031397557\n",
      "500 -2116.42 0.11039035672224723\n",
      "600 -2958.8125 0.10130012991655403\n",
      "700 -3117.6748 0.10067872980099953\n",
      "800 -3112.3457 0.10067563548118409\n",
      "900 -3127.5508 0.1006624338316549\n",
      "1000 -3073.25 0.10049129403716629\n",
      "1100 -3148.538 0.10022729991403985\n",
      "1200 -3273.6455 0.0999424125959175\n",
      "1300 -2996.5986 0.10114449439830578\n",
      "1400 -3340.1797 0.0998167982424038\n",
      "1500 -3064.123 0.10056851986197372\n",
      "1600 -3191.13 0.10034653961036731\n",
      "1700 -3165.1895 0.1003561589712968\n",
      "1800 -3177.4111 0.10018983643794585\n",
      "1900 -3129.8242 0.10114089867189303\n",
      "2000 -3112.7012 0.1009413864506549\n",
      "2100 -3104.0664 0.10063409578340127\n",
      "2200 -3241.2637 0.1003366826371419\n",
      "2300 -3186.7002 0.10006250368990346\n",
      "2400 -3135.1084 0.10060619409529625\n",
      "2500 -3043.5674 0.10106798051389383\n",
      "2600 -3235.3262 0.10003190090548038\n",
      "2700 -3097.8887 0.10015201023280908\n",
      "2800 -3132.3232 0.10043672957596658\n",
      "2900 -3148.995 0.10012772736454201\n",
      "3000 -3134.46 0.10082040236926147\n",
      "3100 -3334.914 0.0997219571440942\n",
      "3200 -3158.7666 0.10044992380267491\n",
      "3300 -3164.4932 0.10022192428725395\n",
      "3400 -3025.7021 0.10100089283645328\n",
      "3500 -3057.8906 0.10098030961423933\n",
      "3600 -3328.5176 0.09975396675932302\n",
      "3700 -3136.6738 0.10059458500994618\n",
      "3800 -3027.4385 0.10089735322222729\n",
      "3900 -3070.6924 0.10103403665632787\n",
      "4000 -3159.2012 0.10018876279277834\n",
      "4100 -3262.2334 0.09992490142730792\n",
      "4200 -3122.832 0.10053704286325782\n",
      "4300 -3092.1885 0.10062543315823838\n",
      "4400 -3194.6904 0.10030370300110505\n",
      "4500 -2971.959 0.10087979548044823\n",
      "4600 -3224.3008 0.10010280595884045\n",
      "4700 -3059.7373 0.10089175021598801\n",
      "4800 -3086.169 0.10050899840721635\n",
      "4900 -3104.8213 0.1006345029824729\n",
      "5000 -3187.4756 0.10017335866853687\n",
      "5100 -3240.2441 0.10017302397207523\n",
      "5200 -3210.921 0.10025791736889503\n",
      "5300 -3207.712 0.10042410859882071\n",
      "5400 -3067.3975 0.10073241891643687\n",
      "5500 -3261.8555 0.09986145249140989\n",
      "5600 -3005.7754 0.10081759414791854\n",
      "5700 -3156.4062 0.1006014682298014\n",
      "5800 -3137.6104 0.10036135109409991\n",
      "5900 -3150.1025 0.1007591764909826\n",
      "6000 -3038.3574 0.10061557111042303\n",
      "6100 -3215.7158 0.10020125540644774\n",
      "6200 -3153.9824 0.10057990972734941\n",
      "6300 -3271.2373 0.10037077881985776\n",
      "6400 -3158.795 0.10040591620720125\n",
      "6500 -3148.6182 0.10099277808848213\n",
      "6600 -3149.086 0.10023647544753235\n",
      "6700 -3239.0146 0.10011400228874262\n",
      "6800 -3071.043 0.10104193609568798\n",
      "6900 -3198.4688 0.10017109014840019\n",
      "7000 -3186.5605 0.10032280976652821\n",
      "7100 -3278.9307 0.10016929574977113\n",
      "7200 -3301.6309 0.09979397833863675\n",
      "7300 -3116.1006 0.1006389172848433\n",
      "7400 -3186.6445 0.10040895391195893\n",
      "7500 -3128.2266 0.10033699358282085\n",
      "7600 -3161.1436 0.10057014971041092\n",
      "7700 -3133.625 0.10069459768079009\n",
      "7800 -3183.0762 0.10031977409507664\n",
      "7900 -3149.1172 0.10046915571121953\n",
      "8000 -3127.5137 0.10077858965711388\n",
      "8100 -3130.2607 0.10054571773512185\n",
      "8200 -3263.6045 0.09995802001899384\n",
      "8300 -3194.5771 0.1004412313850034\n",
      "8400 -3045.4414 0.10081701679008653\n",
      "8500 -3068.5898 0.10063145357666595\n",
      "8600 -3123.416 0.10049352289288402\n",
      "8700 -3326.003 0.09995625440592396\n",
      "8800 -3041.7559 0.10124423061375461\n",
      "8900 -3196.0234 0.10066538515654179\n",
      "9000 -3121.3486 0.10057573822310244\n",
      "9100 -3222.37 0.10020711078297881\n",
      "9200 -3186.664 0.10028763397499786\n",
      "9300 -3133.8389 0.10031168780636796\n",
      "9400 -3140.13 0.10034876704081039\n",
      "9500 -3231.3994 0.10015568795544873\n",
      "9600 -3264.9941 0.10001418191959009\n",
      "9700 -3138.2441 0.10052731110976397\n",
      "9800 -3259.043 0.09972666865551233\n",
      "9900 -3105.9834 0.10035326351537172\n"
     ]
    }
   ],
   "source": [
    "for n in range(10000):\n",
    "    for i in range(10):\n",
    "        mh_update_M(0.1)\n",
    "\n",
    "    for i in range(10):\n",
    "        sess.run(sigma_train_step, {learning_rate: 0.001})\n",
    "\n",
    "    if n% 100 == 0:\n",
    "        print(n, sess.run(loss), sess.run(sigma_2)**(1/2))"
   ]
  },
  {
   "cell_type": "code",
   "execution_count": 327,
   "metadata": {
    "ExecuteTime": {
     "end_time": "2018-01-10T15:12:54.618247Z",
     "start_time": "2018-01-10T15:12:54.606247Z"
    }
   },
   "outputs": [
    {
     "data": {
      "text/plain": [
       "0.097969468401597454"
      ]
     },
     "execution_count": 327,
     "metadata": {},
     "output_type": "execute_result"
    }
   ],
   "source": [
    "sess.run(sigma_2)**(1/2)"
   ]
  },
  {
   "cell_type": "code",
   "execution_count": null,
   "metadata": {},
   "outputs": [],
   "source": []
  }
 ],
 "metadata": {
  "kernelspec": {
   "display_name": "Python 3",
   "language": "python",
   "name": "python3"
  },
  "language_info": {
   "codemirror_mode": {
    "name": "ipython",
    "version": 3
   },
   "file_extension": ".py",
   "mimetype": "text/x-python",
   "name": "python",
   "nbconvert_exporter": "python",
   "pygments_lexer": "ipython3",
   "version": "3.6.6"
  },
  "toc": {
   "colors": {
    "hover_highlight": "#DAA520",
    "navigate_num": "#000000",
    "navigate_text": "#400040",
    "running_highlight": "#FF0000",
    "selected_highlight": "#FFD700",
    "sidebar_border": "#000000",
    "wrapper_background": "#ffffff"
   },
   "moveMenuLeft": true,
   "nav_menu": {
    "height": "12px",
    "width": "252px"
   },
   "navigate_menu": true,
   "number_sections": true,
   "sideBar": true,
   "threshold": 4,
   "toc_cell": false,
   "toc_position": {
    "height": "1072px",
    "left": "0px",
    "right": "656px",
    "top": "164px",
    "width": "144px"
   },
   "toc_section_display": "block",
   "toc_window_display": false,
   "widenNotebook": false
  }
 },
 "nbformat": 4,
 "nbformat_minor": 2
}
