{
 "cells": [
  {
   "cell_type": "code",
   "execution_count": 1,
   "metadata": {},
   "outputs": [],
   "source": [
    "import tensorflow as tf\n",
    "from tensorflow_probability import distributions as tfd\n",
    "import tensorflow.keras as keras\n",
    "from tensorflow.keras import layers as kl\n",
    "from tensorflow.nn import sigmoid\n",
    "\n",
    "import numpy as np\n",
    "import pandas as pd\n",
    "\n",
    "import matplotlib.pyplot as plt\n",
    "%matplotlib inline"
   ]
  },
  {
   "cell_type": "code",
   "execution_count": 2,
   "metadata": {},
   "outputs": [],
   "source": [
    "models = model0, model1 = [\n",
    "    keras.Sequential([kl.Dense(1, activation=\"sigmoid\")]) \n",
    "    for i in [1, 2]\n",
    "]"
   ]
  },
  {
   "cell_type": "code",
   "execution_count": 3,
   "metadata": {},
   "outputs": [],
   "source": [
    "model0.compile(\"adam\", \"binary_crossentropy\")\n",
    "model1.compile(\"adam\", \"mse\")"
   ]
  },
  {
   "cell_type": "code",
   "execution_count": 5,
   "metadata": {},
   "outputs": [],
   "source": [
    "def estimate_model(model, N = 100, a_true = -1, b_true = 2, epochs = 1000):\n",
    "    X_obs = tfd.Normal(0, 10).sample(N)\n",
    "    Y_obs = sigmoid(a_true * X_obs + b_true)\n",
    "    \n",
    "    X_train, Y_train = X_obs[:, None], Y_obs[:, None]\n",
    "\n",
    "    model.set_weights([[[0]], [0]])\n",
    "    model.fit(X_train, Y_train, \n",
    "               epochs = epochs, batch_size = len(X_train), verbose=0)\n",
    "    a, b = [v.numpy().squeeze() for v in model.weights]\n",
    "    \n",
    "    return np.array([a, b])\n",
    "    "
   ]
  },
  {
   "cell_type": "code",
   "execution_count": 16,
   "metadata": {},
   "outputs": [
    {
     "data": {
      "text/plain": [
       "array([-1.0000132,  1.999988 ], dtype=float32)"
      ]
     },
     "execution_count": 16,
     "metadata": {},
     "output_type": "execute_result"
    }
   ],
   "source": [
    "estimate_model(model0, epochs=100000)"
   ]
  },
  {
   "cell_type": "code",
   "execution_count": 15,
   "metadata": {},
   "outputs": [
    {
     "data": {
      "text/plain": [
       "array([-0.99999917,  2.0000007 ], dtype=float32)"
      ]
     },
     "execution_count": 15,
     "metadata": {},
     "output_type": "execute_result"
    }
   ],
   "source": [
    "estimate_model(model1, epochs=100000)"
   ]
  },
  {
   "cell_type": "code",
   "execution_count": 6,
   "metadata": {},
   "outputs": [],
   "source": [
    "estimated_weights = np.array([\n",
    "    [estimate_model(model) for model in models]\n",
    "    for i in range(100)\n",
    "])"
   ]
  },
  {
   "cell_type": "code",
   "execution_count": 11,
   "metadata": {},
   "outputs": [],
   "source": [
    "df = pd.DataFrame(estimated_weights.reshape([-1, 4]), \n",
    "                  columns = [\"a0\", \"b0\", \"a1\", \"b1\"])"
   ]
  },
  {
   "cell_type": "code",
   "execution_count": 12,
   "metadata": {},
   "outputs": [
    {
     "data": {
      "text/html": [
       "<div>\n",
       "<style scoped>\n",
       "    .dataframe tbody tr th:only-of-type {\n",
       "        vertical-align: middle;\n",
       "    }\n",
       "\n",
       "    .dataframe tbody tr th {\n",
       "        vertical-align: top;\n",
       "    }\n",
       "\n",
       "    .dataframe thead th {\n",
       "        text-align: right;\n",
       "    }\n",
       "</style>\n",
       "<table border=\"1\" class=\"dataframe\">\n",
       "  <thead>\n",
       "    <tr style=\"text-align: right;\">\n",
       "      <th></th>\n",
       "      <th>a0</th>\n",
       "      <th>b0</th>\n",
       "      <th>a1</th>\n",
       "      <th>b1</th>\n",
       "    </tr>\n",
       "  </thead>\n",
       "  <tbody>\n",
       "    <tr>\n",
       "      <th>0</th>\n",
       "      <td>-0.427410</td>\n",
       "      <td>0.744250</td>\n",
       "      <td>-0.270043</td>\n",
       "      <td>0.455088</td>\n",
       "    </tr>\n",
       "    <tr>\n",
       "      <th>1</th>\n",
       "      <td>-0.500880</td>\n",
       "      <td>0.735310</td>\n",
       "      <td>-0.368708</td>\n",
       "      <td>0.724479</td>\n",
       "    </tr>\n",
       "    <tr>\n",
       "      <th>2</th>\n",
       "      <td>-0.518822</td>\n",
       "      <td>0.863974</td>\n",
       "      <td>-0.415417</td>\n",
       "      <td>0.677331</td>\n",
       "    </tr>\n",
       "    <tr>\n",
       "      <th>3</th>\n",
       "      <td>-0.544021</td>\n",
       "      <td>0.851912</td>\n",
       "      <td>-0.416534</td>\n",
       "      <td>0.607768</td>\n",
       "    </tr>\n",
       "    <tr>\n",
       "      <th>4</th>\n",
       "      <td>-0.554827</td>\n",
       "      <td>0.943702</td>\n",
       "      <td>-0.458586</td>\n",
       "      <td>0.891336</td>\n",
       "    </tr>\n",
       "  </tbody>\n",
       "</table>\n",
       "</div>"
      ],
      "text/plain": [
       "         a0        b0        a1        b1\n",
       "0 -0.427410  0.744250 -0.270043  0.455088\n",
       "1 -0.500880  0.735310 -0.368708  0.724479\n",
       "2 -0.518822  0.863974 -0.415417  0.677331\n",
       "3 -0.544021  0.851912 -0.416534  0.607768\n",
       "4 -0.554827  0.943702 -0.458586  0.891336"
      ]
     },
     "execution_count": 12,
     "metadata": {},
     "output_type": "execute_result"
    }
   ],
   "source": [
    "df.head()"
   ]
  },
  {
   "cell_type": "code",
   "execution_count": 13,
   "metadata": {},
   "outputs": [
    {
     "data": {
      "text/plain": [
       "array([[<matplotlib.axes._subplots.AxesSubplot object at 0x000001487081B978>,\n",
       "        <matplotlib.axes._subplots.AxesSubplot object at 0x000001487042A940>],\n",
       "       [<matplotlib.axes._subplots.AxesSubplot object at 0x00000148708EFEB8>,\n",
       "        <matplotlib.axes._subplots.AxesSubplot object at 0x000001487052E470>]],\n",
       "      dtype=object)"
      ]
     },
     "execution_count": 13,
     "metadata": {},
     "output_type": "execute_result"
    },
    {
     "data": {
      "image/png": "[encoded data removed]",
      "text/plain": [
       "<Figure size 432x288 with 4 Axes>"
      ]
     },
     "metadata": {
      "needs_background": "light"
     },
     "output_type": "display_data"
    }
   ],
   "source": [
    "df.hist()"
   ]
  },
  {
   "cell_type": "code",
   "execution_count": 14,
   "metadata": {},
   "outputs": [
    {
     "data": {
      "text/html": [
       "<div>\n",
       "<style scoped>\n",
       "    .dataframe tbody tr th:only-of-type {\n",
       "        vertical-align: middle;\n",
       "    }\n",
       "\n",
       "    .dataframe tbody tr th {\n",
       "        vertical-align: top;\n",
       "    }\n",
       "\n",
       "    .dataframe thead th {\n",
       "        text-align: right;\n",
       "    }\n",
       "</style>\n",
       "<table border=\"1\" class=\"dataframe\">\n",
       "  <thead>\n",
       "    <tr style=\"text-align: right;\">\n",
       "      <th></th>\n",
       "      <th>a0</th>\n",
       "      <th>b0</th>\n",
       "      <th>a1</th>\n",
       "      <th>b1</th>\n",
       "    </tr>\n",
       "  </thead>\n",
       "  <tbody>\n",
       "    <tr>\n",
       "      <th>count</th>\n",
       "      <td>100.000000</td>\n",
       "      <td>100.000000</td>\n",
       "      <td>100.000000</td>\n",
       "      <td>100.000000</td>\n",
       "    </tr>\n",
       "    <tr>\n",
       "      <th>mean</th>\n",
       "      <td>-0.548264</td>\n",
       "      <td>0.889600</td>\n",
       "      <td>-0.458137</td>\n",
       "      <td>0.800416</td>\n",
       "    </tr>\n",
       "    <tr>\n",
       "      <th>std</th>\n",
       "      <td>0.020291</td>\n",
       "      <td>0.079343</td>\n",
       "      <td>0.026357</td>\n",
       "      <td>0.083248</td>\n",
       "    </tr>\n",
       "    <tr>\n",
       "      <th>min</th>\n",
       "      <td>-0.584369</td>\n",
       "      <td>0.690307</td>\n",
       "      <td>-0.498670</td>\n",
       "      <td>0.455088</td>\n",
       "    </tr>\n",
       "    <tr>\n",
       "      <th>25%</th>\n",
       "      <td>-0.561008</td>\n",
       "      <td>0.839195</td>\n",
       "      <td>-0.472758</td>\n",
       "      <td>0.755270</td>\n",
       "    </tr>\n",
       "    <tr>\n",
       "      <th>50%</th>\n",
       "      <td>-0.549052</td>\n",
       "      <td>0.898090</td>\n",
       "      <td>-0.460241</td>\n",
       "      <td>0.801712</td>\n",
       "    </tr>\n",
       "    <tr>\n",
       "      <th>75%</th>\n",
       "      <td>-0.537505</td>\n",
       "      <td>0.946805</td>\n",
       "      <td>-0.450903</td>\n",
       "      <td>0.848051</td>\n",
       "    </tr>\n",
       "    <tr>\n",
       "      <th>max</th>\n",
       "      <td>-0.427410</td>\n",
       "      <td>1.076228</td>\n",
       "      <td>-0.270043</td>\n",
       "      <td>0.979354</td>\n",
       "    </tr>\n",
       "  </tbody>\n",
       "</table>\n",
       "</div>"
      ],
      "text/plain": [
       "               a0          b0          a1          b1\n",
       "count  100.000000  100.000000  100.000000  100.000000\n",
       "mean    -0.548264    0.889600   -0.458137    0.800416\n",
       "std      0.020291    0.079343    0.026357    0.083248\n",
       "min     -0.584369    0.690307   -0.498670    0.455088\n",
       "25%     -0.561008    0.839195   -0.472758    0.755270\n",
       "50%     -0.549052    0.898090   -0.460241    0.801712\n",
       "75%     -0.537505    0.946805   -0.450903    0.848051\n",
       "max     -0.427410    1.076228   -0.270043    0.979354"
      ]
     },
     "execution_count": 14,
     "metadata": {},
     "output_type": "execute_result"
    }
   ],
   "source": [
    "df.describe()"
   ]
  },
  {
   "cell_type": "code",
   "execution_count": null,
   "metadata": {},
   "outputs": [],
   "source": []
  }
 ],
 "metadata": {
  "kernelspec": {
   "display_name": "Python 3",
   "language": "python",
   "name": "python3"
  },
  "language_info": {
   "codemirror_mode": {
    "name": "ipython",
    "version": 3
   },
   "file_extension": ".py",
   "mimetype": "text/x-python",
   "name": "python",
   "nbconvert_exporter": "python",
   "pygments_lexer": "ipython3",
   "version": "3.6.6"
  }
 },
 "nbformat": 4,
 "nbformat_minor": 2
}
