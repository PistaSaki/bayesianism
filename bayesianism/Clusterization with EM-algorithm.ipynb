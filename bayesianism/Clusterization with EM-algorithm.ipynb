{
 "cells": [
  {
   "cell_type": "code",
   "execution_count": 1,
   "metadata": {},
   "outputs": [],
   "source": [
    "import numpy as np"
   ]
  },
  {
   "cell_type": "code",
   "execution_count": 2,
   "metadata": {},
   "outputs": [],
   "source": [
    "import tensorflow as tf\n",
    "import tensorflow.distributions as tfd\n",
    "from tensorflow.distributions import Normal\n",
    "from tensorflow.nn import softmax\n",
    "from tensorflow import exp, log, ones, zeros"
   ]
  },
  {
   "cell_type": "code",
   "execution_count": 3,
   "metadata": {},
   "outputs": [],
   "source": [
    "tf.enable_eager_execution()"
   ]
  },
  {
   "cell_type": "code",
   "execution_count": 4,
   "metadata": {},
   "outputs": [],
   "source": [
    "import matplotlib.pyplot as pl\n",
    "%matplotlib inline"
   ]
  },
  {
   "cell_type": "markdown",
   "metadata": {},
   "source": [
    "## Generate Data"
   ]
  },
  {
   "cell_type": "code",
   "execution_count": 5,
   "metadata": {},
   "outputs": [],
   "source": [
    "π_true = tf.constant([0.4, 0.6])\n",
    "μ_true = tf.constant([-1., 2.])\n",
    "σ_true = tf.constant([1/2, 1/3])"
   ]
  },
  {
   "cell_type": "code",
   "execution_count": 6,
   "metadata": {},
   "outputs": [],
   "source": [
    "def generate_sample(π, μ, σ, N):\n",
    "    x = tfd.Normal(loc = μ, scale = σ).sample(N)\n",
    "    y = tfd.Categorical(probs = π).sample(N)\n",
    "    z = tf.gather_nd(x, indices = tf.stack([tf.range(N), y], axis = -1))\n",
    "    return z\n",
    "\n",
    "z = generate_sample(π_true, μ_true, σ_true, N = 500)"
   ]
  },
  {
   "cell_type": "code",
   "execution_count": 7,
   "metadata": {},
   "outputs": [],
   "source": [
    "def plot_distr(π, μ, σ, interval, **kwargs):\n",
    "    xxx = np.linspace(*interval, 200, dtype = np.float32)\n",
    "    yyy = tf.reduce_sum(\n",
    "        π * tfd.Normal(loc = μ[None, :], scale = σ[None, :]).prob(xxx[:, None]),\n",
    "        axis = -1\n",
    "    )\n",
    "    pl.plot(xxx, yyy, **kwargs)"
   ]
  },
  {
   "cell_type": "code",
   "execution_count": 8,
   "metadata": {},
   "outputs": [
    {
     "data": {
      "text/plain": [
       "<matplotlib.legend.Legend at 0x267fff3b550>"
      ]
     },
     "execution_count": 8,
     "metadata": {},
     "output_type": "execute_result"
    },
    {
     "data": {
      "image/png": "[encoded data removed]",
      "text/plain": [
       "<Figure size 432x288 with 1 Axes>"
      ]
     },
     "metadata": {
      "needs_background": "light"
     },
     "output_type": "display_data"
    }
   ],
   "source": [
    "pl.hist(z, density=True, label = \"sample\");\n",
    "plot_distr(π_true, μ_true, σ_true, interval = [-4, 6], label = \"true\")\n",
    "pl.legend()"
   ]
  },
  {
   "cell_type": "markdown",
   "metadata": {},
   "source": [
    "## Model parametrization"
   ]
  },
  {
   "cell_type": "markdown",
   "metadata": {},
   "source": [
    "Natural model parameters are three vectors of lenght $K$: $\\pi, \\mu, \\sigma$ - probas of the clusters, their locations and scale parameters.\n",
    "\n",
    "We parametrize it slightly differently by $\\theta := (\\rho, \\mu, \\beta)$ where\n",
    "* $\\beta = \\log(\\sigma^2)\\quad \\text{i.e.}\\quad \\sigma = e^{\\beta/2}$\n",
    "* $ \\pi_j = \\frac{\\exp(\\rho_j)}{\\sum_k \\exp(\\rho_j)}$ or `pi = softmax(rho)`"
   ]
  },
  {
   "cell_type": "code",
   "execution_count": 9,
   "metadata": {},
   "outputs": [],
   "source": [
    "# change of parametrization\n",
    "def get_πμσ(θ):\n",
    "    ρ, μ, β = θ\n",
    "    π = softmax(ρ)\n",
    "    σ = exp(β / 2)\n",
    "    return π, μ, σ "
   ]
  },
  {
   "cell_type": "markdown",
   "metadata": {},
   "source": [
    "## Model prior"
   ]
  },
  {
   "cell_type": "code",
   "execution_count": 10,
   "metadata": {},
   "outputs": [],
   "source": [
    "# model prior\n",
    "K = 2\n",
    "ρ_prior = Normal(loc = zeros(K), scale = ones(K))\n",
    "μ_prior = Normal(loc = zeros(K), scale = ones(K))\n",
    "β_prior = Normal(loc = zeros(K), scale = ones(K))\n",
    "\n",
    "def θ_log_prior(θ) -> \"scalar\":\n",
    "    ρ, μ, β = θ\n",
    "    return tf.reduce_sum(\n",
    "        ρ_prior.log_prob(ρ) + μ_prior.log_prob(μ) + β_prior.log_prob(β)\n",
    "    )"
   ]
  },
  {
   "cell_type": "markdown",
   "metadata": {},
   "source": [
    "## EM-algorithm\n",
    "#### Choose starting value of $\\theta$"
   ]
  },
  {
   "cell_type": "code",
   "execution_count": 67,
   "metadata": {},
   "outputs": [],
   "source": [
    "# Choose starting value of model parameters\n",
    "ρ = tf.Variable(ρ_prior.sample(), name = \"rho\")\n",
    "μ = tf.Variable(μ_prior.sample(), name = \"mu\")\n",
    "β = tf.Variable(β_prior.sample(), name = \"beta\")\n",
    "\n",
    "θ = ρ, μ, β"
   ]
  },
  {
   "cell_type": "markdown",
   "metadata": {},
   "source": [
    "### E-step\n",
    "* **E-step:** for fixed $\\theta$ and each $i$ calculate \"posterior density of $Y_i$ given $z_i$, $\\theta$\":\n",
    "$$ P_i(y) := \\P(Y_i = y\\mid \\theta, z_i) \\;\\propto\\; \\P(Y_i = y\\mid \\theta) \\cdot \\P(z_i\\mid \\theta, Y_i = y)\\; =\\; \\pi_y \\cdot \\P(z_i\\mid \\theta, Y_i = y)$$\n",
    "We calculate it as follows:\n",
    "* `lhds[i, y] :=`$\\P(z_i\\mid \\theta, Y_i = y)$ = `Norm(loc=mu[y], scale = sigma[y]).prob(z[i])`\n",
    "* `P[i, y] := pi[y] * a[i, y]` \n",
    "* and then normalize `P` wrt `y`-index."
   ]
  },
  {
   "cell_type": "code",
   "execution_count": 68,
   "metadata": {},
   "outputs": [],
   "source": [
    "def get_lhds(z, θ) -> \"Tensor of shape (N, K)\":\n",
    "    \"\"\"return `lhds[i, y] = \\P(z_i| Y_i = y, θ)$\"\"\"\n",
    "    π, μ, σ = get_πμσ(θ)  \n",
    "    return Normal(loc = μ[None, :], scale = σ[None, :]).prob(z[:, None])"
   ]
  },
  {
   "cell_type": "code",
   "execution_count": 69,
   "metadata": {},
   "outputs": [
    {
     "data": {
      "text/plain": [
       "TensorShape([Dimension(500), Dimension(2)])"
      ]
     },
     "execution_count": 69,
     "metadata": {},
     "output_type": "execute_result"
    }
   ],
   "source": [
    "def E_step(z, θ) -> \"Tensor of shape (N, K)\":\n",
    "    \"\"\"Return 'posterior' distribution `P(y)` on `Y` given `z`, `θ`.\"\"\"\n",
    "    π, μ, σ = get_πμσ(θ)  \n",
    "    P = π * get_lhds(z, θ)\n",
    "    P = P / tf.reduce_sum(P, axis=-1, keepdims=True)\n",
    "    return P\n",
    "\n",
    "P = E_step(z, θ)\n",
    "P.shape"
   ]
  },
  {
   "cell_type": "markdown",
   "metadata": {},
   "source": [
    "### M-Step\n",
    "$\\newcommand{\\argmax}[1]{\\underset{#1}{\\mathrm{argmax}}}$\n",
    "* **M-step:** Now fix all $P_i$ and maximize wrt $\\theta$ the following \n",
    "$$\\log\\P(\\theta) + \\sum_i\\sum_y P_i(y)\\cdot\\log\\P(z_i, Y_i = y| \\theta) = \\log\\P(\\theta) + \\sum_i\\sum_y P_i(y)\\big[ \\log\\P(z_i| Y_i = y, \\theta) + \\log\\pi_y \\big]$$\n",
    "(We will actually minimize the negative. Also note that we already have implemented function `get_lhds` that calculates $\\P(z_i| Y_i = y, \\theta)$.)"
   ]
  },
  {
   "cell_type": "code",
   "execution_count": 70,
   "metadata": {},
   "outputs": [],
   "source": [
    "optimizer = tf.train.AdamOptimizer()"
   ]
  },
  {
   "cell_type": "code",
   "execution_count": 71,
   "metadata": {},
   "outputs": [
    {
     "data": {
      "text/plain": [
       "(<tf.Variable 'rho:0' shape=(2,) dtype=float32, numpy=array([ 1.5292301, -2.482035 ], dtype=float32)>,\n",
       " <tf.Variable 'mu:0' shape=(2,) dtype=float32, numpy=array([-0.66458476,  0.34107038], dtype=float32)>,\n",
       " <tf.Variable 'beta:0' shape=(2,) dtype=float32, numpy=array([0.05572447, 1.2323301 ], dtype=float32)>)"
      ]
     },
     "execution_count": 71,
     "metadata": {},
     "output_type": "execute_result"
    }
   ],
   "source": [
    "def M_step(P, θ, z, n_steps = 100):\n",
    "    \"\"\"Apply several steps of gradient descent wrt `θ` and return the result. \"\"\"\n",
    "    \n",
    "    for i in range(n_steps):\n",
    "        with tf.GradientTape() as tape:\n",
    "            π, μ, σ = get_πμσ(θ)  \n",
    "            loss = - θ_log_prior(θ) - tf.reduce_sum(P * (log(get_lhds(z, θ)) + log(π)))\n",
    "\n",
    "        grad = tape.gradient(loss, θ)\n",
    "        optimizer.apply_gradients(zip(grad, θ))\n",
    "    \n",
    "    #print(\"Current loss:\", loss)\n",
    "    return θ\n",
    "\n",
    "\n",
    "θ = M_step(P, θ, z)\n",
    "θ"
   ]
  },
  {
   "cell_type": "code",
   "execution_count": 80,
   "metadata": {},
   "outputs": [
    {
     "data": {
      "text/plain": [
       "<matplotlib.legend.Legend at 0x26794814630>"
      ]
     },
     "execution_count": 80,
     "metadata": {},
     "output_type": "execute_result"
    },
    {
     "data": {
      "image/png": "[encoded data removed]",
      "text/plain": [
       "<Figure size 432x288 with 1 Axes>"
      ]
     },
     "metadata": {
      "needs_background": "light"
     },
     "output_type": "display_data"
    }
   ],
   "source": [
    "for i in range(10):\n",
    "    P = E_step(z, θ)\n",
    "    θ = M_step(P, θ, z, 100)\n",
    "   \n",
    "pl.hist(z, density = True, label = \"sample\");\n",
    "plot_distr(π_true, μ_true, σ_true, interval = [-4, 6], label = \"truth\")\n",
    "plot_distr(*get_πμσ(θ), interval =[-4, 6], label = \"estimate\")\n",
    "pl.legend()"
   ]
  },
  {
   "cell_type": "code",
   "execution_count": 81,
   "metadata": {},
   "outputs": [
    {
     "data": {
      "text/plain": [
       "(<tf.Variable 'rho:0' shape=(2,) dtype=float32, numpy=array([nan, nan], dtype=float32)>,\n",
       " <tf.Variable 'mu:0' shape=(2,) dtype=float32, numpy=array([nan, nan], dtype=float32)>,\n",
       " <tf.Variable 'beta:0' shape=(2,) dtype=float32, numpy=array([nan, nan], dtype=float32)>)"
      ]
     },
     "execution_count": 81,
     "metadata": {},
     "output_type": "execute_result"
    }
   ],
   "source": [
    "θ"
   ]
  },
  {
   "cell_type": "code",
   "execution_count": null,
   "metadata": {},
   "outputs": [],
   "source": []
  }
 ],
 "metadata": {
  "kernelspec": {
   "display_name": "Python 3",
   "language": "python",
   "name": "python3"
  },
  "language_info": {
   "codemirror_mode": {
    "name": "ipython",
    "version": 3
   },
   "file_extension": ".py",
   "mimetype": "text/x-python",
   "name": "python",
   "nbconvert_exporter": "python",
   "pygments_lexer": "ipython3",
   "version": "3.6.6"
  }
 },
 "nbformat": 4,
 "nbformat_minor": 2
}
