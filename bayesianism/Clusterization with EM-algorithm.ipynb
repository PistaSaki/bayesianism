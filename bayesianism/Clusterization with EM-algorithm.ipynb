{
 "cells": [
  {
   "cell_type": "markdown",
   "metadata": {},
   "source": [
    "$\\newcommand{\\P}{\\mathbb{P}}$\n",
    "$\\newcommand{\\E}{\\mathbb{E}}$\n",
    "`l[i, j]` := $\\P(x_i | \\theta, Y_i = j) $\n",
    "\n",
    "`pi[j] ` := $\\pi_j = \\P(Y_i = j | \\theta)$\n",
    "\n",
    "`P[i, j]` = $ \\P(Y_i = j | \\theta, x_i) \\propto \\P(x_i, Y_i = j | \\theta) \\cdot \\P(Y_i = j | \\theta)$\n",
    "\n",
    "\n",
    "$G(P, \\theta)  := \\E_P\\Big[\\log \\P(y, z, \\theta)\\Big]$"
   ]
  },
  {
   "cell_type": "code",
   "execution_count": 1,
   "metadata": {},
   "outputs": [],
   "source": [
    "import tensorflow as tf\n",
    "import tensorflow.distributions as tfd"
   ]
  },
  {
   "cell_type": "code",
   "execution_count": 2,
   "metadata": {},
   "outputs": [],
   "source": [
    "tf.enable_eager_execution()"
   ]
  },
  {
   "cell_type": "code",
   "execution_count": 3,
   "metadata": {},
   "outputs": [],
   "source": [
    "import numpy as np\n",
    "import numpy.random as rnd"
   ]
  },
  {
   "cell_type": "code",
   "execution_count": 4,
   "metadata": {},
   "outputs": [],
   "source": [
    "import matplotlib.pyplot as pl\n",
    "%matplotlib inline"
   ]
  },
  {
   "cell_type": "code",
   "execution_count": 17,
   "metadata": {},
   "outputs": [
    {
     "data": {
      "image/png": "[encoded data removed]",
      "text/plain": [
       "<Figure size 432x288 with 1 Axes>"
      ]
     },
     "metadata": {
      "needs_background": "light"
     },
     "output_type": "display_data"
    }
   ],
   "source": [
    "def generate_sample(pi, mu, sigma, N):\n",
    "    K = len(pi)\n",
    "    x = rnd.normal(loc = [mu], scale = [sigma], size = [N, K])\n",
    "    y = rnd.choice(K, size = N)\n",
    "    x = x[range(N),y]\n",
    "    return x\n",
    "\n",
    "    \n",
    "z = generate_sample(\n",
    "    pi = [1/3, 2/3],\n",
    "    mu = [-1, 2],\n",
    "    sigma = [1/2, 1/3],\n",
    "    N = 1000,\n",
    ")\n",
    "N = len(z)\n",
    "    \n",
    "pl.hist(z, 100);"
   ]
  },
  {
   "cell_type": "markdown",
   "metadata": {},
   "source": [
    "denote $\\beta:= \\log(\\sigma^2)$ i.e. $\\sigma = e^{\\beta/2}$"
   ]
  },
  {
   "cell_type": "code",
   "execution_count": 6,
   "metadata": {},
   "outputs": [],
   "source": [
    "K = 2\n",
    "π_prior = tfd.Dirichlet(2 * np.ones(K))\n",
    "μ_prior = tfd.Normal(loc = np.zeros(K), scale = np.ones(K))\n",
    "β_prior = tfd.Normal(loc = np.zeros(K), scale = np.ones(K))"
   ]
  },
  {
   "cell_type": "code",
   "execution_count": 7,
   "metadata": {},
   "outputs": [
    {
     "data": {
      "text/plain": [
       "(<tf.distributions.Dirichlet 'Dirichlet/' batch_shape=() event_shape=(2,) dtype=float64>,\n",
       " <tf.distributions.Normal 'Normal/' batch_shape=(2,) event_shape=() dtype=float64>,\n",
       " <tf.distributions.Normal 'Normal/' batch_shape=(2,) event_shape=() dtype=float64>)"
      ]
     },
     "execution_count": 7,
     "metadata": {},
     "output_type": "execute_result"
    }
   ],
   "source": [
    "θ_priors = (π_prior, μ_prior, β_prior)\n",
    "θ_priors"
   ]
  },
  {
   "cell_type": "code",
   "execution_count": 12,
   "metadata": {},
   "outputs": [],
   "source": [
    "θ = π, μ, β = [ tf.Variable(prior.sample(), name = name)\n",
    "    for name, prior in zip([\"pi\",\"mu\", \"beta\"], [π_prior, μ_prior, β_prior])]"
   ]
  },
  {
   "cell_type": "code",
   "execution_count": 22,
   "metadata": {},
   "outputs": [],
   "source": [
    "def θ_log_prior(θ) -> \"scalar\":\n",
    "    \"\"\"$\\log P(θ)$\"\"\"\n",
    "    return tf.add_n([\n",
    "        tf.reduce_sum(prior.log_prob(x)) \n",
    "        for x, prior in zip(θ, θ_priors)\n",
    "    ])"
   ]
  },
  {
   "cell_type": "code",
   "execution_count": 9,
   "metadata": {},
   "outputs": [],
   "source": [
    "def log_lhd(z, y, θ) -> \"scalar\":\n",
    "    \"\"\"$\\log P(z|y, θ)$\"\"\"\n",
    "    \n",
    "    # vectors of length `K`\n",
    "    π, μ, β = θ \n",
    "    σ = tf.exp(β / 2)\n",
    "    \n",
    "    # vectors of lenght `N`\n",
    "    loc = tf.gather(μ, indices = y)\n",
    "    scale = tf.gather(σ, indices=y) \n",
    "    return tfd.Normal(loc, scale).log_prob(z)"
   ]
  },
  {
   "cell_type": "code",
   "execution_count": 10,
   "metadata": {},
   "outputs": [],
   "source": [
    "def log_lhds_as_fun_of_y(z, θ) -> \"Tensor of shape (N, K)\":\n",
    "    \"\"\"return `a[i, y] = \\log P(z_i| Y_i = y, θ)$\"\"\"\n",
    "    \n",
    "    # vectors of length `K`\n",
    "    π, μ, β = θ \n",
    "    σ = tf.exp(β / 2)\n",
    "     \n",
    "    return tfd.Normal(loc = μ[None, :], scale = σ[None, :]).log_prob(z[:, None])"
   ]
  },
  {
   "cell_type": "code",
   "execution_count": 14,
   "metadata": {},
   "outputs": [
    {
     "data": {
      "text/plain": [
       "TensorShape([Dimension(1000), Dimension(2)])"
      ]
     },
     "execution_count": 14,
     "metadata": {},
     "output_type": "execute_result"
    }
   ],
   "source": [
    "log_lhds_as_fun_of_y(z, θ).shape"
   ]
  },
  {
   "cell_type": "markdown",
   "metadata": {},
   "source": [
    "* **E-step:** for fixed $\\theta$ and each $i$ calculate \"posterior density of $Y_i$ given $z_i$, $\\theta$\":\n",
    "$$ P_i(y) := \\P(Y_i = y\\mid \\theta, z_i) \\propto \\P(Y_i = y\\mid \\theta) \\cdot \\P(z_i\\mid \\theta, Y_i = y)$$\n",
    "i.e. `P[i, y] := pi[y] * Norm(loc=mu[y], scale = sigma[y]).log_prob(z[i])` and then normalize wrt `y`-index."
   ]
  },
  {
   "cell_type": "code",
   "execution_count": 19,
   "metadata": {},
   "outputs": [],
   "source": [
    "def E_step(z:(N,), θ:(K,)) -> (N, K) :\n",
    "    \"\"\"Return 'posterior' distribution `P(y)` on `Y` given `z`, `θ`.\"\"\"\n",
    "    π, μ, β = θ\n",
    "    σ = tf.exp(β / 2)\n",
    "    P = π * tfd.Normal(μ[None, :], σ[None, :]).log_prob(z[:, None])\n",
    "    P = P / tf.reduce_sum(P, axis=-1, keepdims=True)\n",
    "    return P\n",
    "\n",
    "P = E_step(z, θ)"
   ]
  },
  {
   "cell_type": "markdown",
   "metadata": {},
   "source": [
    "$\\newcommand{\\argmax}[1]{\\underset{#1}{\\mathrm{argmax}}}$\n",
    "* **M-step:** Now fix all $P_i$ and maximize\n",
    "$$\\log\\P(\\theta) + \\sum_i\\sum_y P_i(y)\\cdot\\log\\P(z_i, Y_i = y| \\theta) = \\log\\P(\\theta) + \\sum_i\\sum_y P_i(y)\\big[ \\log\\P(z_i| Y_i = y, \\theta) + \\pi_y \\big]$$"
   ]
  },
  {
   "cell_type": "code",
   "execution_count": 20,
   "metadata": {},
   "outputs": [],
   "source": [
    "optimizer = tf.train.AdamOptimizer()"
   ]
  },
  {
   "cell_type": "code",
   "execution_count": 93,
   "metadata": {},
   "outputs": [
    {
     "data": {
      "text/plain": [
       "[<tf.Variable 'pi:0' shape=(2,) dtype=float64, numpy=array([1.52744708, 1.59930266])>,\n",
       " <tf.Variable 'mu:0' shape=(2,) dtype=float64, numpy=array([-0.37782104,  0.85405181])>,\n",
       " <tf.Variable 'beta:0' shape=(2,) dtype=float64, numpy=array([1.40244721, 1.06223049])>]"
      ]
     },
     "execution_count": 93,
     "metadata": {},
     "output_type": "execute_result"
    }
   ],
   "source": [
    "def M_step(P, θ, z, n_steps = 10):\n",
    "    \"\"\"Apply several steps of gradient descent wrt `θ` and return the result. \"\"\"\n",
    "    \n",
    "    with tf.GradientTape() as tape:\n",
    "        loss = - θ_log_prior(θ) - tf.reduce_sum(P * (log_lhds_as_fun_of_y(z, θ) + π))\n",
    "\n",
    "    grad = tape.gradient(loss, θ)\n",
    "    optimizer.apply_gradients(zip(grad, θ))\n",
    "    \n",
    "    #print(\"Current loss:\", loss)\n",
    "    return θ\n",
    "\n",
    "\n",
    "θ = M_step(P, θ, z)\n",
    "θ"
   ]
  },
  {
   "cell_type": "code",
   "execution_count": null,
   "metadata": {},
   "outputs": [],
   "source": [
    "def plot_distr(θ, interval):\n",
    "    π, μ, β = θ\n",
    "    σ = tf.exp(β / 2)\n",
    "    \n",
    "    xxx = np.linspace(*interval, 200)\n",
    "    yyy = tf.reduce_sum(\n",
    "        π * tfd.Normal(loc = μ[None, :], scale = σ[None, :]).prob(xxx[:, None]),\n",
    "        axis = -1\n",
    "    )\n",
    "    pl.plot(xxx, yyy)\n",
    " "
   ]
  },
  {
   "cell_type": "code",
   "execution_count": 94,
   "metadata": {},
   "outputs": [
    {
     "name": "stdout",
     "output_type": "stream",
     "text": [
      "[<tf.Variable 'pi:0' shape=(2,) dtype=float64, numpy=array([2.51913294, 2.60646177])>, <tf.Variable 'mu:0' shape=(2,) dtype=float64, numpy=array([0.28684811, 0.51581705])>, <tf.Variable 'beta:0' shape=(2,) dtype=float64, numpy=array([0.95080178, 0.91200986])>]\n"
     ]
    },
    {
     "data": {
      "image/png": "[encoded data removed]",
      "text/plain": [
       "<Figure size 432x288 with 1 Axes>"
      ]
     },
     "metadata": {
      "needs_background": "light"
     },
     "output_type": "display_data"
    }
   ],
   "source": [
    "for i in range(1000):\n",
    "    P = E_step(z, θ)\n",
    "    θ = M_step(P, θ, z, n_steps=10000)\n",
    "   \n",
    "plot_distr(θ, [-4, 6])\n",
    "pl.hist(z, density = True);\n",
    "print(θ)"
   ]
  },
  {
   "cell_type": "code",
   "execution_count": null,
   "metadata": {},
   "outputs": [],
   "source": []
  }
 ],
 "metadata": {
  "kernelspec": {
   "display_name": "Python 3",
   "language": "python",
   "name": "python3"
  },
  "language_info": {
   "codemirror_mode": {
    "name": "ipython",
    "version": 3
   },
   "file_extension": ".py",
   "mimetype": "text/x-python",
   "name": "python",
   "nbconvert_exporter": "python",
   "pygments_lexer": "ipython3",
   "version": "3.6.6"
  }
 },
 "nbformat": 4,
 "nbformat_minor": 2
}
